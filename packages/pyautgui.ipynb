{
 "cells": [
  {
   "cell_type": "code",
   "execution_count": 1,
   "id": "6846854f",
   "metadata": {},
   "outputs": [
    {
     "name": "stdout",
     "output_type": "stream",
     "text": [
      "Requirement already satisfied: pyautogui in /home/mqasim/anaconda3/lib/python3.7/site-packages (0.9.53)\n",
      "Requirement already satisfied: mouseinfo in /home/mqasim/anaconda3/lib/python3.7/site-packages (from pyautogui) (0.1.3)\n",
      "Requirement already satisfied: pyscreeze>=0.1.21 in /home/mqasim/anaconda3/lib/python3.7/site-packages (from pyautogui) (0.1.28)\n",
      "Requirement already satisfied: pymsgbox in /home/mqasim/anaconda3/lib/python3.7/site-packages (from pyautogui) (1.0.9)\n",
      "Requirement already satisfied: python3-Xlib in /home/mqasim/anaconda3/lib/python3.7/site-packages (from pyautogui) (0.15)\n",
      "Requirement already satisfied: pygetwindow>=0.0.5 in /home/mqasim/anaconda3/lib/python3.7/site-packages (from pyautogui) (0.0.9)\n",
      "Requirement already satisfied: PyTweening>=1.0.1 in /home/mqasim/anaconda3/lib/python3.7/site-packages (from pyautogui) (1.0.4)\n",
      "Requirement already satisfied: pyrect in /home/mqasim/anaconda3/lib/python3.7/site-packages (from pygetwindow>=0.0.5->pyautogui) (0.2.0)\n",
      "Requirement already satisfied: Pillow>=5.2.0 in /home/mqasim/anaconda3/lib/python3.7/site-packages (from pyscreeze>=0.1.21->pyautogui) (9.4.0)\n",
      "Requirement already satisfied: pyperclip in /home/mqasim/anaconda3/lib/python3.7/site-packages (from mouseinfo->pyautogui) (1.8.2)\n",
      "\n",
      "\u001b[1m[\u001b[0m\u001b[34;49mnotice\u001b[0m\u001b[1;39;49m]\u001b[0m\u001b[39;49m A new release of pip available: \u001b[0m\u001b[31;49m22.3.1\u001b[0m\u001b[39;49m -> \u001b[0m\u001b[32;49m23.0\u001b[0m\n",
      "\u001b[1m[\u001b[0m\u001b[34;49mnotice\u001b[0m\u001b[1;39;49m]\u001b[0m\u001b[39;49m To update, run: \u001b[0m\u001b[32;49mpip install --upgrade pip\u001b[0m\n"
     ]
    }
   ],
   "source": [
    "!pip install pyautogui"
   ]
  },
  {
   "cell_type": "code",
   "execution_count": 2,
   "id": "a77080dd",
   "metadata": {},
   "outputs": [],
   "source": [
    "import pyautogui"
   ]
  },
  {
   "cell_type": "code",
   "execution_count": 50,
   "id": "3374fdb3",
   "metadata": {},
   "outputs": [
    {
     "data": {
      "text/plain": [
       "Point(x=1363, y=521)"
      ]
     },
     "execution_count": 50,
     "metadata": {},
     "output_type": "execute_result"
    }
   ],
   "source": [
    "pyautogui.position()"
   ]
  },
  {
   "cell_type": "code",
   "execution_count": 16,
   "id": "0f9dfa41",
   "metadata": {},
   "outputs": [
    {
     "data": {
      "text/plain": [
       "Size(width=1366, height=768)"
      ]
     },
     "execution_count": 16,
     "metadata": {},
     "output_type": "execute_result"
    }
   ],
   "source": [
    "pyautogui.size()"
   ]
  },
  {
   "cell_type": "code",
   "execution_count": 19,
   "id": "b4d25c94",
   "metadata": {},
   "outputs": [
    {
     "data": {
      "text/plain": [
       "True"
      ]
     },
     "execution_count": 19,
     "metadata": {},
     "output_type": "execute_result"
    }
   ],
   "source": [
    "pyautogui.onScreen(1300, 700)"
   ]
  },
  {
   "cell_type": "code",
   "execution_count": 21,
   "id": "ec4f5dd2",
   "metadata": {},
   "outputs": [],
   "source": [
    "pyautogui.moveTo(0, 0)"
   ]
  },
  {
   "cell_type": "code",
   "execution_count": 27,
   "id": "e6296d0a",
   "metadata": {},
   "outputs": [],
   "source": [
    "pyautogui.moveTo(0, 0,1)"
   ]
  },
  {
   "cell_type": "code",
   "execution_count": 37,
   "id": "686d818f",
   "metadata": {},
   "outputs": [],
   "source": [
    "pyautogui.FAILSAFE = True\n",
    "pyautogui.moveRel(200, 200,1)"
   ]
  },
  {
   "cell_type": "code",
   "execution_count": 39,
   "id": "cc7b493d",
   "metadata": {},
   "outputs": [],
   "source": [
    "pyautogui.dragTo(200, 200, duration=3) "
   ]
  },
  {
   "cell_type": "code",
   "execution_count": 43,
   "id": "001df27e",
   "metadata": {},
   "outputs": [],
   "source": [
    "pyautogui.click(x=41, y=747, clicks=3, interval=3, button='left')\n"
   ]
  },
  {
   "cell_type": "code",
   "execution_count": 54,
   "id": "7d0753e0",
   "metadata": {},
   "outputs": [],
   "source": [
    ">>> pyautogui.scroll(200, x=1363, y=521)\n"
   ]
  },
  {
   "cell_type": "code",
   "execution_count": null,
   "id": "70abc3bc",
   "metadata": {},
   "outputs": [],
   "source": [
    "pyautogui.mouseDown(x=1363, y=521, button='left')"
   ]
  },
  {
   "cell_type": "code",
   "execution_count": 56,
   "id": "af49de0b",
   "metadata": {},
   "outputs": [
    {
     "name": "stdout",
     "output_type": "stream",
     "text": [
      "7 8\n",
      "2 9\n"
     ]
    }
   ],
   "source": [
    "def abc(a,b):\n",
    "    print(a, b)\n",
    "    \n",
    "abc(7,8)\n",
    "abc(b=9,a=2)"
   ]
  },
  {
   "cell_type": "code",
   "execution_count": 63,
   "id": "7f61c415",
   "metadata": {},
   "outputs": [
    {
     "ename": "KeyboardInterrupt",
     "evalue": "",
     "output_type": "error",
     "traceback": [
      "\u001b[0;31m-----------------------------------------------------------------------\u001b[0m",
      "\u001b[0;31mKeyboardInterrupt\u001b[0m                     Traceback (most recent call last)",
      "\u001b[0;32m<ipython-input-63-c9b7959df549>\u001b[0m in \u001b[0;36m<module>\u001b[0;34m\u001b[0m\n\u001b[1;32m      1\u001b[0m \u001b[0mpyautogui\u001b[0m\u001b[0;34m.\u001b[0m\u001b[0mmoveRel\u001b[0m\u001b[0;34m(\u001b[0m\u001b[0;36m50\u001b[0m\u001b[0;34m,\u001b[0m \u001b[0;36m200\u001b[0m\u001b[0;34m,\u001b[0m\u001b[0;36m1\u001b[0m\u001b[0;34m)\u001b[0m\u001b[0;34m\u001b[0m\u001b[0;34m\u001b[0m\u001b[0m\n\u001b[0;32m----> 2\u001b[0;31m \u001b[0mpyautogui\u001b[0m\u001b[0;34m.\u001b[0m\u001b[0mtypewrite\u001b[0m\u001b[0;34m(\u001b[0m\u001b[0;34m'Hello world!\\n'\u001b[0m\u001b[0;34m,\u001b[0m \u001b[0minterval\u001b[0m\u001b[0;34m=\u001b[0m\u001b[0;36m.5\u001b[0m\u001b[0;34m)\u001b[0m\u001b[0;34m\u001b[0m\u001b[0;34m\u001b[0m\u001b[0m\n\u001b[0m",
      "\u001b[0;32m~/anaconda3/lib/python3.7/site-packages/pyautogui/__init__.py\u001b[0m in \u001b[0;36mwrapper\u001b[0;34m(*args, **kwargs)\u001b[0m\n\u001b[1;32m    596\u001b[0m     \u001b[0;32mdef\u001b[0m \u001b[0mwrapper\u001b[0m\u001b[0;34m(\u001b[0m\u001b[0;34m*\u001b[0m\u001b[0margs\u001b[0m\u001b[0;34m,\u001b[0m \u001b[0;34m**\u001b[0m\u001b[0mkwargs\u001b[0m\u001b[0;34m)\u001b[0m\u001b[0;34m:\u001b[0m\u001b[0;34m\u001b[0m\u001b[0;34m\u001b[0m\u001b[0m\n\u001b[1;32m    597\u001b[0m         \u001b[0mfailSafeCheck\u001b[0m\u001b[0;34m(\u001b[0m\u001b[0;34m)\u001b[0m\u001b[0;34m\u001b[0m\u001b[0;34m\u001b[0m\u001b[0m\n\u001b[0;32m--> 598\u001b[0;31m         \u001b[0mreturnVal\u001b[0m \u001b[0;34m=\u001b[0m \u001b[0mwrappedFunction\u001b[0m\u001b[0;34m(\u001b[0m\u001b[0;34m*\u001b[0m\u001b[0margs\u001b[0m\u001b[0;34m,\u001b[0m \u001b[0;34m**\u001b[0m\u001b[0mkwargs\u001b[0m\u001b[0;34m)\u001b[0m\u001b[0;34m\u001b[0m\u001b[0;34m\u001b[0m\u001b[0m\n\u001b[0m\u001b[1;32m    599\u001b[0m         \u001b[0m_handlePause\u001b[0m\u001b[0;34m(\u001b[0m\u001b[0mkwargs\u001b[0m\u001b[0;34m.\u001b[0m\u001b[0mget\u001b[0m\u001b[0;34m(\u001b[0m\u001b[0;34m\"_pause\"\u001b[0m\u001b[0;34m,\u001b[0m \u001b[0;32mTrue\u001b[0m\u001b[0;34m)\u001b[0m\u001b[0;34m)\u001b[0m\u001b[0;34m\u001b[0m\u001b[0;34m\u001b[0m\u001b[0m\n\u001b[1;32m    600\u001b[0m         \u001b[0;32mreturn\u001b[0m \u001b[0mreturnVal\u001b[0m\u001b[0;34m\u001b[0m\u001b[0;34m\u001b[0m\u001b[0m\n",
      "\u001b[0;32m~/anaconda3/lib/python3.7/site-packages/pyautogui/__init__.py\u001b[0m in \u001b[0;36mtypewrite\u001b[0;34m(message, interval, logScreenshot, _pause)\u001b[0m\n\u001b[1;32m   1679\u001b[0m             \u001b[0mc\u001b[0m \u001b[0;34m=\u001b[0m \u001b[0mc\u001b[0m\u001b[0;34m.\u001b[0m\u001b[0mlower\u001b[0m\u001b[0;34m(\u001b[0m\u001b[0;34m)\u001b[0m\u001b[0;34m\u001b[0m\u001b[0;34m\u001b[0m\u001b[0m\n\u001b[1;32m   1680\u001b[0m         \u001b[0mpress\u001b[0m\u001b[0;34m(\u001b[0m\u001b[0mc\u001b[0m\u001b[0;34m,\u001b[0m \u001b[0m_pause\u001b[0m\u001b[0;34m=\u001b[0m\u001b[0;32mFalse\u001b[0m\u001b[0;34m)\u001b[0m\u001b[0;34m\u001b[0m\u001b[0;34m\u001b[0m\u001b[0m\n\u001b[0;32m-> 1681\u001b[0;31m         \u001b[0mtime\u001b[0m\u001b[0;34m.\u001b[0m\u001b[0msleep\u001b[0m\u001b[0;34m(\u001b[0m\u001b[0minterval\u001b[0m\u001b[0;34m)\u001b[0m\u001b[0;34m\u001b[0m\u001b[0;34m\u001b[0m\u001b[0m\n\u001b[0m\u001b[1;32m   1682\u001b[0m         \u001b[0mfailSafeCheck\u001b[0m\u001b[0;34m(\u001b[0m\u001b[0;34m)\u001b[0m\u001b[0;34m\u001b[0m\u001b[0;34m\u001b[0m\u001b[0m\n\u001b[1;32m   1683\u001b[0m \u001b[0;34m\u001b[0m\u001b[0m\n",
      "\u001b[0;31mKeyboardInterrupt\u001b[0m: "
     ]
    }
   ],
   "source": [
    "pyautogui.moveRel(50, 200,1)\n",
    "pyautogui.typewr woite('Hello world!\\n', interval=.)"
   ]
  },
  {
   "cell_type": "code",
   "execution_count": null,
   "id": "6e63c9fc",
   "metadata": {
    "collapsed": true
   },
   "outputs": [],
   "source": [
    "\n"
   ]
  }
 ],
 "metadata": {
  "kernelspec": {
   "display_name": "Python 3",
   "language": "python",
   "name": "python3"
  },
  "language_info": {
   "codemirror_mode": {
    "name": "ipython",
    "version": 3
   },
   "file_extension": ".py",
   "mimetype": "text/x-python",
   "name": "python",
   "nbconvert_exporter": "python",
   "pygments_lexer": "ipython3",
   "version": "3.7.15"
  }
 },
 "nbformat": 4,
 "nbformat_minor": 5
}
