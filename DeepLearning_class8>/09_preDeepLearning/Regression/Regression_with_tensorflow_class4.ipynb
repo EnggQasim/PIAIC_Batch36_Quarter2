{
 "cells": [
  {
   "cell_type": "code",
   "execution_count": 1,
   "metadata": {
    "colab": {
     "base_uri": "https://localhost:8080/"
    },
    "id": "lgHePKak9QS-",
    "outputId": "be4cb834-627f-42dc-adde-e31e2b79fa73"
   },
   "outputs": [
    {
     "name": "stdout",
     "output_type": "stream",
     "text": [
      "2.11.0\n"
     ]
    }
   ],
   "source": [
    "import tensorflow as tf\n",
    "print(tf.__version__)"
   ]
  },
  {
   "cell_type": "code",
   "execution_count": null,
   "metadata": {
    "colab": {
     "base_uri": "https://localhost:8080/"
    },
    "id": "L4t4FInE9dQZ",
    "outputId": "ec3fbce5-15b0-4972-8bd1-9f1b09f71f67"
   },
   "outputs": [],
   "source": [
    "# !pip install tensorflow"
   ]
  },
  {
   "cell_type": "markdown",
   "metadata": {
    "id": "Cse-Qnj-BTRB"
   },
   "source": [
    "<img src='data:image/png;base64,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'>\n",
    "\n",
    "<img src='https://miro.medium.com/max/432/1*y0pXhfaTGmvfNwaGoHnW5w.jpeg'>"
   ]
  },
  {
   "cell_type": "code",
   "execution_count": 54,
   "metadata": {
    "id": "6MP7jiKR98IH"
   },
   "outputs": [],
   "source": [
    "from tensorflow.keras.models import Sequential\n",
    "from tensorflow.keras.layers import Dense\n",
    "from tensorflow.keras.optimizers import SGD, Adam"
   ]
  },
  {
   "cell_type": "code",
   "execution_count": 55,
   "metadata": {
    "id": "MPDu7Q8NA2nZ"
   },
   "outputs": [],
   "source": [
    "import pandas as pd\n",
    "import numpy as np\n",
    "import matplotlib.pyplot as plt"
   ]
  },
  {
   "cell_type": "raw",
   "metadata": {
    "colab": {
     "base_uri": "https://localhost:8080/",
     "height": 206
    },
    "id": "UOWZ41VaD073",
    "outputId": "a55c394c-b73d-4170-92b7-9ba6d1e50fd5"
   },
   "source": [
    "df = pd.read_csv(\"/content/weight-height.csv\")\n",
    "df.head()"
   ]
  },
  {
   "cell_type": "code",
   "execution_count": 56,
   "metadata": {
    "colab": {
     "base_uri": "https://localhost:8080/",
     "height": 206
    },
    "id": "aRYAAZLXD9E3",
    "outputId": "e4e0a745-593f-4e65-cf08-153d7b4651f1"
   },
   "outputs": [
    {
     "data": {
      "text/html": [
       "<div>\n",
       "<style scoped>\n",
       "    .dataframe tbody tr th:only-of-type {\n",
       "        vertical-align: middle;\n",
       "    }\n",
       "\n",
       "    .dataframe tbody tr th {\n",
       "        vertical-align: top;\n",
       "    }\n",
       "\n",
       "    .dataframe thead th {\n",
       "        text-align: right;\n",
       "    }\n",
       "</style>\n",
       "<table border=\"1\" class=\"dataframe\">\n",
       "  <thead>\n",
       "    <tr style=\"text-align: right;\">\n",
       "      <th></th>\n",
       "      <th>Gender</th>\n",
       "      <th>Height</th>\n",
       "      <th>Weight</th>\n",
       "    </tr>\n",
       "  </thead>\n",
       "  <tbody>\n",
       "    <tr>\n",
       "      <th>0</th>\n",
       "      <td>Male</td>\n",
       "      <td>73.847017</td>\n",
       "      <td>241.893563</td>\n",
       "    </tr>\n",
       "    <tr>\n",
       "      <th>1</th>\n",
       "      <td>Male</td>\n",
       "      <td>68.781904</td>\n",
       "      <td>162.310473</td>\n",
       "    </tr>\n",
       "    <tr>\n",
       "      <th>2</th>\n",
       "      <td>Male</td>\n",
       "      <td>74.110105</td>\n",
       "      <td>212.740856</td>\n",
       "    </tr>\n",
       "    <tr>\n",
       "      <th>3</th>\n",
       "      <td>Male</td>\n",
       "      <td>71.730978</td>\n",
       "      <td>220.042470</td>\n",
       "    </tr>\n",
       "    <tr>\n",
       "      <th>4</th>\n",
       "      <td>Male</td>\n",
       "      <td>69.881796</td>\n",
       "      <td>206.349801</td>\n",
       "    </tr>\n",
       "  </tbody>\n",
       "</table>\n",
       "</div>"
      ],
      "text/plain": [
       "  Gender     Height      Weight\n",
       "0   Male  73.847017  241.893563\n",
       "1   Male  68.781904  162.310473\n",
       "2   Male  74.110105  212.740856\n",
       "3   Male  71.730978  220.042470\n",
       "4   Male  69.881796  206.349801"
      ]
     },
     "execution_count": 56,
     "metadata": {},
     "output_type": "execute_result"
    }
   ],
   "source": [
    "df = pd.read_csv('https://raw.githubusercontent.com/EnggQasim/NED_ML_batch3/main/class3/data/weight-height.csv')\n",
    "df.head()"
   ]
  },
  {
   "cell_type": "code",
   "execution_count": 57,
   "metadata": {
    "colab": {
     "base_uri": "https://localhost:8080/",
     "height": 300
    },
    "id": "FtEyKBSbEJJo",
    "outputId": "44f7abc9-3527-45c2-bb16-f518293f46e7"
   },
   "outputs": [
    {
     "data": {
      "text/html": [
       "<div>\n",
       "<style scoped>\n",
       "    .dataframe tbody tr th:only-of-type {\n",
       "        vertical-align: middle;\n",
       "    }\n",
       "\n",
       "    .dataframe tbody tr th {\n",
       "        vertical-align: top;\n",
       "    }\n",
       "\n",
       "    .dataframe thead th {\n",
       "        text-align: right;\n",
       "    }\n",
       "</style>\n",
       "<table border=\"1\" class=\"dataframe\">\n",
       "  <thead>\n",
       "    <tr style=\"text-align: right;\">\n",
       "      <th></th>\n",
       "      <th>Height</th>\n",
       "      <th>Weight</th>\n",
       "    </tr>\n",
       "  </thead>\n",
       "  <tbody>\n",
       "    <tr>\n",
       "      <th>count</th>\n",
       "      <td>10000.000000</td>\n",
       "      <td>10000.000000</td>\n",
       "    </tr>\n",
       "    <tr>\n",
       "      <th>mean</th>\n",
       "      <td>66.367560</td>\n",
       "      <td>161.440357</td>\n",
       "    </tr>\n",
       "    <tr>\n",
       "      <th>std</th>\n",
       "      <td>3.847528</td>\n",
       "      <td>32.108439</td>\n",
       "    </tr>\n",
       "    <tr>\n",
       "      <th>min</th>\n",
       "      <td>54.263133</td>\n",
       "      <td>64.700127</td>\n",
       "    </tr>\n",
       "    <tr>\n",
       "      <th>25%</th>\n",
       "      <td>63.505620</td>\n",
       "      <td>135.818051</td>\n",
       "    </tr>\n",
       "    <tr>\n",
       "      <th>50%</th>\n",
       "      <td>66.318070</td>\n",
       "      <td>161.212928</td>\n",
       "    </tr>\n",
       "    <tr>\n",
       "      <th>75%</th>\n",
       "      <td>69.174262</td>\n",
       "      <td>187.169525</td>\n",
       "    </tr>\n",
       "    <tr>\n",
       "      <th>max</th>\n",
       "      <td>78.998742</td>\n",
       "      <td>269.989699</td>\n",
       "    </tr>\n",
       "  </tbody>\n",
       "</table>\n",
       "</div>"
      ],
      "text/plain": [
       "             Height        Weight\n",
       "count  10000.000000  10000.000000\n",
       "mean      66.367560    161.440357\n",
       "std        3.847528     32.108439\n",
       "min       54.263133     64.700127\n",
       "25%       63.505620    135.818051\n",
       "50%       66.318070    161.212928\n",
       "75%       69.174262    187.169525\n",
       "max       78.998742    269.989699"
      ]
     },
     "execution_count": 57,
     "metadata": {},
     "output_type": "execute_result"
    }
   ],
   "source": [
    "df.describe()"
   ]
  },
  {
   "cell_type": "code",
   "execution_count": 58,
   "metadata": {
    "colab": {
     "base_uri": "https://localhost:8080/"
    },
    "id": "m_1Q2MdwEnXX",
    "outputId": "9485a705-2be4-4d18-de0d-0cad39f08ca5"
   },
   "outputs": [
    {
     "name": "stdout",
     "output_type": "stream",
     "text": [
      "<class 'pandas.core.frame.DataFrame'>\n",
      "RangeIndex: 10000 entries, 0 to 9999\n",
      "Data columns (total 3 columns):\n",
      " #   Column  Non-Null Count  Dtype  \n",
      "---  ------  --------------  -----  \n",
      " 0   Gender  10000 non-null  object \n",
      " 1   Height  10000 non-null  float64\n",
      " 2   Weight  10000 non-null  float64\n",
      "dtypes: float64(2), object(1)\n",
      "memory usage: 234.5+ KB\n"
     ]
    }
   ],
   "source": [
    "df.info()"
   ]
  },
  {
   "cell_type": "code",
   "execution_count": 59,
   "metadata": {
    "colab": {
     "base_uri": "https://localhost:8080/"
    },
    "id": "dP4zAg5OFJzI",
    "outputId": "29d14c0c-f924-43f9-f139-e5d5dd81a716"
   },
   "outputs": [
    {
     "data": {
      "text/plain": [
       "array([[73.84701702],\n",
       "       [68.78190405],\n",
       "       [74.11010539],\n",
       "       ...,\n",
       "       [63.86799221],\n",
       "       [69.03424313],\n",
       "       [61.94424588]])"
      ]
     },
     "execution_count": 59,
     "metadata": {},
     "output_type": "execute_result"
    }
   ],
   "source": [
    "X = df[['Height']].values\n",
    "X"
   ]
  },
  {
   "cell_type": "code",
   "execution_count": 60,
   "metadata": {
    "colab": {
     "base_uri": "https://localhost:8080/"
    },
    "id": "4uYkxQXFFZ8Y",
    "outputId": "60bd3b86-8b37-4d04-8cb8-5108e5719e4b"
   },
   "outputs": [
    {
     "data": {
      "text/plain": [
       "array([73.84701702])"
      ]
     },
     "execution_count": 60,
     "metadata": {},
     "output_type": "execute_result"
    }
   ],
   "source": [
    "X[0]"
   ]
  },
  {
   "cell_type": "code",
   "execution_count": 61,
   "metadata": {
    "colab": {
     "base_uri": "https://localhost:8080/"
    },
    "id": "n4-ya0XoFbpn",
    "outputId": "a731babc-fc39-402e-d596-3db216f35582"
   },
   "outputs": [
    {
     "data": {
      "text/plain": [
       "array([[241.89356318],\n",
       "       [162.31047252],\n",
       "       [212.74085556],\n",
       "       ...,\n",
       "       [128.47531878],\n",
       "       [163.85246135],\n",
       "       [113.64910268]])"
      ]
     },
     "execution_count": 61,
     "metadata": {},
     "output_type": "execute_result"
    }
   ],
   "source": [
    "y_true = df[[\"Weight\"]].values\n",
    "y_true"
   ]
  },
  {
   "cell_type": "code",
   "execution_count": 62,
   "metadata": {
    "colab": {
     "base_uri": "https://localhost:8080/"
    },
    "id": "w4I9y7E3FpHn",
    "outputId": "aacdda07-8219-4b91-9504-f156a3c53ae8"
   },
   "outputs": [
    {
     "name": "stdout",
     "output_type": "stream",
     "text": [
      "(10000, 1)\n",
      "(10000, 1)\n"
     ]
    }
   ],
   "source": [
    "print(X.shape)\n",
    "print(y_true.shape)"
   ]
  },
  {
   "cell_type": "code",
   "execution_count": 63,
   "metadata": {
    "colab": {
     "base_uri": "https://localhost:8080/"
    },
    "id": "BMbu22ZcFuN3",
    "outputId": "2fad805f-8187-4d6b-8942-380b16206931"
   },
   "outputs": [
    {
     "data": {
      "text/plain": [
       "(1,)"
      ]
     },
     "execution_count": 63,
     "metadata": {},
     "output_type": "execute_result"
    }
   ],
   "source": [
    "X[0].shape"
   ]
  },
  {
   "cell_type": "raw",
   "metadata": {
    "colab": {
     "base_uri": "https://localhost:8080/",
     "height": 191
    },
    "id": "oG60OZAvF7cH",
    "outputId": "6708a72d-8152-471c-f7e4-e26bb894b12b"
   },
   "source": [
    "display(np.array(27))\n",
    "display(np.array([1,2,3,4]))\n",
    "display(np.array([[1,2,3],[4,5,6]]))\n",
    "\n",
    "display(np.array(27).ndim)\n",
    "display(np.array([1,2,3,4]).ndim)\n",
    "display(np.array([[1,2,3],[4,5,6]]).ndim)\n",
    "\n",
    "\n",
    "display(np.array(27).shape)\n",
    "display(np.array([1,2,3,4]).shape)\n",
    "display(np.array([[1,2,3],[4,5,6]]).shape)"
   ]
  },
  {
   "cell_type": "markdown",
   "metadata": {
    "id": "HKW9j9iyHAQq"
   },
   "source": [
    "# Create Nural Network "
   ]
  },
  {
   "cell_type": "code",
   "execution_count": 64,
   "metadata": {
    "colab": {
     "base_uri": "https://localhost:8080/",
     "height": 52
    },
    "id": "l5ROf0uqGL0a",
    "outputId": "7b8cf421-b4ed-4885-a660-b85845f976c2"
   },
   "outputs": [
    {
     "name": "stdout",
     "output_type": "stream",
     "text": [
      "[73.84701702]\n"
     ]
    },
    {
     "data": {
      "text/plain": [
       "(1,)"
      ]
     },
     "metadata": {},
     "output_type": "display_data"
    }
   ],
   "source": [
    "print(X[0])\n",
    "display(X[0].shape)"
   ]
  },
  {
   "cell_type": "code",
   "execution_count": 39,
   "metadata": {
    "colab": {
     "base_uri": "https://localhost:8080/"
    },
    "id": "3sPxR7D0HcFo",
    "outputId": "fa485605-9bee-43f8-d1af-cbc2e0b10474"
   },
   "outputs": [
    {
     "data": {
      "text/plain": [
       "(2,)"
      ]
     },
     "execution_count": 39,
     "metadata": {},
     "output_type": "execute_result"
    }
   ],
   "source": [
    "df[[\"Gender\",\"Height\"]].values[0].shape"
   ]
  },
  {
   "cell_type": "code",
   "execution_count": 65,
   "metadata": {
    "id": "evhKODRAHkeH"
   },
   "outputs": [],
   "source": [
    "model = Sequential()\n",
    "model.add(Dense(1, input_shape=(1,)))"
   ]
  },
  {
   "cell_type": "markdown",
   "metadata": {
    "id": "2B6Fs-P0KVJT"
   },
   "source": [
    "## Model Summary"
   ]
  },
  {
   "cell_type": "code",
   "execution_count": 66,
   "metadata": {
    "colab": {
     "base_uri": "https://localhost:8080/"
    },
    "id": "KvnuYdX8KW9X",
    "outputId": "f98acb74-c86a-49e2-ea5e-082b131da5d4"
   },
   "outputs": [
    {
     "name": "stdout",
     "output_type": "stream",
     "text": [
      "Model: \"sequential_2\"\n",
      "_________________________________________________________________\n",
      " Layer (type)                Output Shape              Param #   \n",
      "=================================================================\n",
      " dense_2 (Dense)             (None, 1)                 2         \n",
      "                                                                 \n",
      "=================================================================\n",
      "Total params: 2\n",
      "Trainable params: 2\n",
      "Non-trainable params: 0\n",
      "_________________________________________________________________\n"
     ]
    }
   ],
   "source": [
    "model.summary()"
   ]
  },
  {
   "cell_type": "markdown",
   "metadata": {
    "id": "pkV7kVoOKmT5"
   },
   "source": [
    "# Compilation Steps"
   ]
  },
  {
   "cell_type": "code",
   "execution_count": 68,
   "metadata": {
    "colab": {
     "base_uri": "https://localhost:8080/"
    },
    "id": "v361VEReKvMH",
    "outputId": "a5e43577-764e-4bf3-b6a3-fd4fa68ed2cd"
   },
   "outputs": [],
   "source": [
    "model.compile(Adam(learning_rate=0.8), 'mean_squared_error')"
   ]
  },
  {
   "cell_type": "markdown",
   "metadata": {
    "id": "JhfyNrfIM9hI"
   },
   "source": [
    "#Split data train and test portion"
   ]
  },
  {
   "cell_type": "code",
   "execution_count": 69,
   "metadata": {
    "id": "tQQ_FulFM5rw"
   },
   "outputs": [],
   "source": [
    "X_train = X[:]\n",
    "y_train = y_true[:]\n",
    "\n",
    "X_test = X[:]\n",
    "y_test = y_true[:]"
   ]
  },
  {
   "cell_type": "code",
   "execution_count": 70,
   "metadata": {
    "colab": {
     "base_uri": "https://localhost:8080/"
    },
    "id": "S0VWiqJKODII",
    "outputId": "d52ec3e2-d40b-4972-86c9-78e0ad02ec48"
   },
   "outputs": [
    {
     "name": "stdout",
     "output_type": "stream",
     "text": [
      "10000\n",
      "10000\n"
     ]
    }
   ],
   "source": [
    "print(len(X_train))\n",
    "print(len(X_test))"
   ]
  },
  {
   "cell_type": "markdown",
   "metadata": {
    "id": "pMxD_kRNLf7y"
   },
   "source": [
    "# Now Starting Training"
   ]
  },
  {
   "cell_type": "code",
   "execution_count": 72,
   "metadata": {
    "colab": {
     "base_uri": "https://localhost:8080/"
    },
    "id": "GcnvlcmQJikX",
    "outputId": "ac98e2b2-7802-4683-fcfc-94092378afe5"
   },
   "outputs": [
    {
     "name": "stdout",
     "output_type": "stream",
     "text": [
      "Epoch 1/100\n",
      "79/79 [==============================] - 0s 1ms/step - loss: 199.4187\n",
      "Epoch 2/100\n",
      "79/79 [==============================] - 0s 1ms/step - loss: 178.4027\n",
      "Epoch 3/100\n",
      "79/79 [==============================] - 0s 1ms/step - loss: 174.8312\n",
      "Epoch 4/100\n",
      "79/79 [==============================] - 0s 1ms/step - loss: 177.1709\n",
      "Epoch 5/100\n",
      "79/79 [==============================] - 0s 1ms/step - loss: 187.5254\n",
      "Epoch 6/100\n",
      "79/79 [==============================] - 0s 1ms/step - loss: 177.5749\n",
      "Epoch 7/100\n",
      "79/79 [==============================] - 0s 1ms/step - loss: 191.0830\n",
      "Epoch 8/100\n",
      "79/79 [==============================] - 0s 1ms/step - loss: 172.7659\n",
      "Epoch 9/100\n",
      "79/79 [==============================] - 0s 1ms/step - loss: 175.2161\n",
      "Epoch 10/100\n",
      "79/79 [==============================] - 0s 1ms/step - loss: 170.5560\n",
      "Epoch 11/100\n",
      "79/79 [==============================] - 0s 1ms/step - loss: 168.3511\n",
      "Epoch 12/100\n",
      "79/79 [==============================] - 0s 1ms/step - loss: 169.1367\n",
      "Epoch 13/100\n",
      "79/79 [==============================] - 0s 1ms/step - loss: 174.5316\n",
      "Epoch 14/100\n",
      "79/79 [==============================] - 0s 1ms/step - loss: 167.3234\n",
      "Epoch 15/100\n",
      "79/79 [==============================] - 0s 1ms/step - loss: 169.7393\n",
      "Epoch 16/100\n",
      "79/79 [==============================] - 0s 1ms/step - loss: 164.2696\n",
      "Epoch 17/100\n",
      "79/79 [==============================] - 0s 1ms/step - loss: 166.6388\n",
      "Epoch 18/100\n",
      "79/79 [==============================] - 0s 1ms/step - loss: 161.4677\n",
      "Epoch 19/100\n",
      "79/79 [==============================] - 0s 1ms/step - loss: 176.6479\n",
      "Epoch 20/100\n",
      "79/79 [==============================] - 0s 1ms/step - loss: 177.0642\n",
      "Epoch 21/100\n",
      "79/79 [==============================] - 0s 1ms/step - loss: 161.2693\n",
      "Epoch 22/100\n",
      "79/79 [==============================] - 0s 1ms/step - loss: 163.2172\n",
      "Epoch 23/100\n",
      "79/79 [==============================] - 0s 1ms/step - loss: 168.9640\n",
      "Epoch 24/100\n",
      "79/79 [==============================] - 0s 1ms/step - loss: 163.3899\n",
      "Epoch 25/100\n",
      "79/79 [==============================] - 0s 1ms/step - loss: 167.1548\n",
      "Epoch 26/100\n",
      "79/79 [==============================] - 0s 1ms/step - loss: 158.8663\n",
      "Epoch 27/100\n",
      "79/79 [==============================] - 0s 1ms/step - loss: 159.2259\n",
      "Epoch 28/100\n",
      "79/79 [==============================] - 0s 1ms/step - loss: 165.3609\n",
      "Epoch 29/100\n",
      "79/79 [==============================] - 0s 1ms/step - loss: 163.1383\n",
      "Epoch 30/100\n",
      "79/79 [==============================] - 0s 1ms/step - loss: 161.0351\n",
      "Epoch 31/100\n",
      "79/79 [==============================] - 0s 1ms/step - loss: 166.9863\n",
      "Epoch 32/100\n",
      "79/79 [==============================] - 0s 2ms/step - loss: 176.1143\n",
      "Epoch 33/100\n",
      "79/79 [==============================] - 0s 2ms/step - loss: 164.2185\n",
      "Epoch 34/100\n",
      "79/79 [==============================] - 0s 2ms/step - loss: 155.8497\n",
      "Epoch 35/100\n",
      "79/79 [==============================] - 0s 2ms/step - loss: 167.8858\n",
      "Epoch 36/100\n",
      "79/79 [==============================] - 0s 2ms/step - loss: 161.0110\n",
      "Epoch 37/100\n",
      "79/79 [==============================] - 0s 1ms/step - loss: 171.5087\n",
      "Epoch 38/100\n",
      "79/79 [==============================] - 0s 1ms/step - loss: 167.5740\n",
      "Epoch 39/100\n",
      "79/79 [==============================] - 0s 1ms/step - loss: 156.3044\n",
      "Epoch 40/100\n",
      "79/79 [==============================] - 0s 2ms/step - loss: 167.5162\n",
      "Epoch 41/100\n",
      "79/79 [==============================] - 0s 2ms/step - loss: 170.7418\n",
      "Epoch 42/100\n",
      "79/79 [==============================] - 0s 2ms/step - loss: 159.6706\n",
      "Epoch 43/100\n",
      "79/79 [==============================] - 0s 2ms/step - loss: 161.2366\n",
      "Epoch 44/100\n",
      "79/79 [==============================] - 0s 2ms/step - loss: 159.0262\n",
      "Epoch 45/100\n",
      "79/79 [==============================] - 0s 2ms/step - loss: 168.2163\n",
      "Epoch 46/100\n",
      "79/79 [==============================] - 0s 1ms/step - loss: 163.2068\n",
      "Epoch 47/100\n",
      "79/79 [==============================] - 0s 1ms/step - loss: 159.7246\n",
      "Epoch 48/100\n",
      "79/79 [==============================] - 0s 1ms/step - loss: 166.1709\n",
      "Epoch 49/100\n",
      "79/79 [==============================] - 0s 1ms/step - loss: 159.6264\n",
      "Epoch 50/100\n",
      "79/79 [==============================] - 0s 1ms/step - loss: 158.9087\n",
      "Epoch 51/100\n",
      "79/79 [==============================] - 0s 1ms/step - loss: 166.0827\n",
      "Epoch 52/100\n",
      "79/79 [==============================] - 0s 1ms/step - loss: 160.0552\n",
      "Epoch 53/100\n",
      "79/79 [==============================] - 0s 2ms/step - loss: 157.7095\n",
      "Epoch 54/100\n",
      "79/79 [==============================] - 0s 2ms/step - loss: 159.0174\n",
      "Epoch 55/100\n",
      "79/79 [==============================] - 0s 1ms/step - loss: 169.1692\n",
      "Epoch 56/100\n",
      "79/79 [==============================] - 0s 1ms/step - loss: 161.6710\n",
      "Epoch 57/100\n",
      "79/79 [==============================] - 0s 1ms/step - loss: 164.8422\n",
      "Epoch 58/100\n",
      "79/79 [==============================] - 0s 1ms/step - loss: 172.7816\n",
      "Epoch 59/100\n",
      "79/79 [==============================] - 0s 1ms/step - loss: 158.7764\n",
      "Epoch 60/100\n",
      "79/79 [==============================] - 0s 2ms/step - loss: 164.5401\n",
      "Epoch 61/100\n",
      "79/79 [==============================] - 0s 1ms/step - loss: 169.9441\n",
      "Epoch 62/100\n",
      "79/79 [==============================] - 0s 2ms/step - loss: 157.6274\n",
      "Epoch 63/100\n",
      "79/79 [==============================] - 0s 2ms/step - loss: 170.4390\n",
      "Epoch 64/100\n",
      "79/79 [==============================] - 0s 2ms/step - loss: 163.8905\n",
      "Epoch 65/100\n",
      "79/79 [==============================] - 0s 1ms/step - loss: 154.3722\n",
      "Epoch 66/100\n",
      "79/79 [==============================] - 0s 2ms/step - loss: 169.5238\n",
      "Epoch 67/100\n",
      "79/79 [==============================] - 0s 996us/step - loss: 173.4183\n",
      "Epoch 68/100\n",
      "79/79 [==============================] - 0s 1ms/step - loss: 161.1672\n",
      "Epoch 69/100\n",
      "79/79 [==============================] - 0s 1ms/step - loss: 161.5578\n",
      "Epoch 70/100\n",
      "79/79 [==============================] - 0s 2ms/step - loss: 179.2012\n",
      "Epoch 71/100\n",
      "79/79 [==============================] - 0s 2ms/step - loss: 169.3758\n",
      "Epoch 72/100\n",
      "79/79 [==============================] - 0s 2ms/step - loss: 178.3594\n",
      "Epoch 73/100\n",
      "79/79 [==============================] - 0s 2ms/step - loss: 162.3002\n",
      "Epoch 74/100\n",
      "79/79 [==============================] - 0s 2ms/step - loss: 166.5871\n",
      "Epoch 75/100\n",
      "79/79 [==============================] - 0s 1ms/step - loss: 161.4210\n",
      "Epoch 76/100\n",
      "79/79 [==============================] - 0s 1ms/step - loss: 160.7010\n",
      "Epoch 77/100\n",
      "79/79 [==============================] - 0s 1ms/step - loss: 164.7775\n",
      "Epoch 78/100\n",
      "79/79 [==============================] - 0s 2ms/step - loss: 167.6607\n",
      "Epoch 79/100\n",
      "79/79 [==============================] - 0s 2ms/step - loss: 179.1620\n",
      "Epoch 80/100\n",
      "79/79 [==============================] - 0s 2ms/step - loss: 161.5067\n",
      "Epoch 81/100\n",
      "79/79 [==============================] - 0s 2ms/step - loss: 157.3227\n",
      "Epoch 82/100\n",
      "79/79 [==============================] - 0s 2ms/step - loss: 156.9585\n",
      "Epoch 83/100\n",
      "79/79 [==============================] - 0s 2ms/step - loss: 160.7259\n",
      "Epoch 84/100\n",
      "79/79 [==============================] - 0s 2ms/step - loss: 152.8790\n",
      "Epoch 85/100\n",
      "79/79 [==============================] - 0s 1ms/step - loss: 158.5344\n",
      "Epoch 86/100\n",
      "79/79 [==============================] - 0s 1ms/step - loss: 158.1109\n",
      "Epoch 87/100\n",
      "79/79 [==============================] - 0s 1ms/step - loss: 162.3157\n",
      "Epoch 88/100\n",
      "79/79 [==============================] - 0s 1ms/step - loss: 170.7064\n",
      "Epoch 89/100\n",
      "79/79 [==============================] - 0s 1ms/step - loss: 158.5009\n",
      "Epoch 90/100\n",
      "79/79 [==============================] - 0s 1ms/step - loss: 164.7079\n",
      "Epoch 91/100\n",
      "79/79 [==============================] - 0s 1ms/step - loss: 168.0638\n",
      "Epoch 92/100\n",
      "79/79 [==============================] - 0s 1ms/step - loss: 161.3174\n",
      "Epoch 93/100\n",
      "79/79 [==============================] - 0s 1ms/step - loss: 177.1885\n",
      "Epoch 94/100\n",
      "79/79 [==============================] - 0s 2ms/step - loss: 153.4829\n",
      "Epoch 95/100\n",
      "79/79 [==============================] - 0s 1ms/step - loss: 159.2613\n",
      "Epoch 96/100\n",
      "79/79 [==============================] - 0s 2ms/step - loss: 157.2291\n",
      "Epoch 97/100\n",
      "79/79 [==============================] - 0s 2ms/step - loss: 155.5405\n",
      "Epoch 98/100\n",
      "79/79 [==============================] - 0s 1ms/step - loss: 152.9190\n",
      "Epoch 99/100\n"
     ]
    },
    {
     "name": "stdout",
     "output_type": "stream",
     "text": [
      "79/79 [==============================] - 0s 1ms/step - loss: 160.5435\n",
      "Epoch 100/100\n",
      "79/79 [==============================] - 0s 1ms/step - loss: 153.9566\n"
     ]
    },
    {
     "data": {
      "text/plain": [
       "<keras.callbacks.History at 0x7f6204535d50>"
      ]
     },
     "execution_count": 72,
     "metadata": {},
     "output_type": "execute_result"
    }
   ],
   "source": [
    "model.fit(X_train, y_train, batch_size=128, epochs=100)"
   ]
  },
  {
   "cell_type": "markdown",
   "metadata": {
    "id": "DWTu9hdUOhIi"
   },
   "source": [
    "# Test on unseen_data"
   ]
  },
  {
   "cell_type": "code",
   "execution_count": 73,
   "metadata": {
    "colab": {
     "base_uri": "https://localhost:8080/"
    },
    "id": "YXbN7pDDMwnJ",
    "outputId": "f6e34faf-9504-472b-e88d-0cd77323b666"
   },
   "outputs": [
    {
     "name": "stdout",
     "output_type": "stream",
     "text": [
      "313/313 [==============================] - 0s 935us/step - loss: 166.9328\n"
     ]
    },
    {
     "data": {
      "text/plain": [
       "166.93280029296875"
      ]
     },
     "execution_count": 73,
     "metadata": {},
     "output_type": "execute_result"
    }
   ],
   "source": [
    "model.evaluate(X_test,y_test)"
   ]
  },
  {
   "cell_type": "markdown",
   "metadata": {
    "id": "1-OBMd4tO2rh"
   },
   "source": [
    "# Prediction with model"
   ]
  },
  {
   "cell_type": "code",
   "execution_count": 74,
   "metadata": {
    "colab": {
     "base_uri": "https://localhost:8080/"
    },
    "id": "TA1iqy8rO1RI",
    "outputId": "f180df0b-bf3c-41dc-92b3-a01017c6162b"
   },
   "outputs": [
    {
     "name": "stdout",
     "output_type": "stream",
     "text": [
      "313/313 [==============================] - 0s 807us/step\n"
     ]
    },
    {
     "data": {
      "text/plain": [
       "array([[223.77405],\n",
       "       [184.40198],\n",
       "       [225.81909],\n",
       "       ...,\n",
       "       [146.20514],\n",
       "       [186.3634 ],\n",
       "       [131.25146]], dtype=float32)"
      ]
     },
     "execution_count": 74,
     "metadata": {},
     "output_type": "execute_result"
    }
   ],
   "source": [
    "y_pred = model.predict(X)\n",
    "y_pred"
   ]
  },
  {
   "cell_type": "code",
   "execution_count": 75,
   "metadata": {
    "colab": {
     "base_uri": "https://localhost:8080/"
    },
    "id": "Uv8Fp-OJMhFP",
    "outputId": "d709c50e-8e11-4e15-eefa-af1a1b324126"
   },
   "outputs": [
    {
     "data": {
      "text/plain": [
       "array([[241.89356318],\n",
       "       [162.31047252],\n",
       "       [212.74085556],\n",
       "       ...,\n",
       "       [128.47531878],\n",
       "       [163.85246135],\n",
       "       [113.64910268]])"
      ]
     },
     "execution_count": 75,
     "metadata": {},
     "output_type": "execute_result"
    }
   ],
   "source": [
    "y_test"
   ]
  },
  {
   "cell_type": "code",
   "execution_count": 76,
   "metadata": {
    "colab": {
     "base_uri": "https://localhost:8080/",
     "height": 312
    },
    "id": "z8Bl-MRXPGN3",
    "outputId": "aefd661a-ca38-4f7f-d8ee-69a4184808cb"
   },
   "outputs": [
    {
     "data": {
      "text/plain": [
       "[<matplotlib.lines.Line2D at 0x7f620472a050>]"
      ]
     },
     "execution_count": 76,
     "metadata": {},
     "output_type": "execute_result"
    },
    {
     "data": {
      "image/png": "[encoded data removed]",
      "text/plain": [
       "<Figure size 432x288 with 1 Axes>"
      ]
     },
     "metadata": {
      "needs_background": "light"
     },
     "output_type": "display_data"
    }
   ],
   "source": [
    "df.plot(kind='scatter',\n",
    "        x=\"Height\",\n",
    "        y=\"Weight\",\n",
    "        title=\"Weight and Height\")\n",
    "plt.plot(X,y_pred, color='red', linewidth=2)"
   ]
  },
  {
   "cell_type": "code",
   "execution_count": 77,
   "metadata": {
    "id": "Tga6956KPcEH"
   },
   "outputs": [],
   "source": [
    "w, b = model.get_weights()"
   ]
  },
  {
   "cell_type": "code",
   "execution_count": 78,
   "metadata": {
    "colab": {
     "base_uri": "https://localhost:8080/"
    },
    "id": "bD_eft55Px2W",
    "outputId": "65aee434-fc43-470a-9f09-601083f14722"
   },
   "outputs": [
    {
     "name": "stdout",
     "output_type": "stream",
     "text": [
      "[[7.773196]]\n",
      "[-350.2533]\n"
     ]
    }
   ],
   "source": [
    "print(w)\n",
    "print(b)"
   ]
  },
  {
   "cell_type": "code",
   "execution_count": 79,
   "metadata": {
    "colab": {
     "base_uri": "https://localhost:8080/"
    },
    "id": "pKtWFonUPzmH",
    "outputId": "8e0da12d-0f3d-4164-81cc-5d4f4843dfdb"
   },
   "outputs": [
    {
     "name": "stdout",
     "output_type": "stream",
     "text": [
      "1/1 [==============================] - 0s 51ms/step\n"
     ]
    },
    {
     "data": {
      "text/plain": [
       "array([[1515.3138]], dtype=float32)"
      ]
     },
     "execution_count": 79,
     "metadata": {},
     "output_type": "execute_result"
    }
   ],
   "source": [
    "model.predict([240])"
   ]
  },
  {
   "cell_type": "code",
   "execution_count": 83,
   "metadata": {
    "colab": {
     "base_uri": "https://localhost:8080/",
     "height": 330
    },
    "id": "9GIhVVrDP9UX",
    "outputId": "f4dd3de9-e5a8-49f7-a7ad-ef740be925e2"
   },
   "outputs": [
    {
     "name": "stdout",
     "output_type": "stream",
     "text": [
      "1/1 [==============================] - 0s 37ms/step\n"
     ]
    },
    {
     "data": {
      "text/plain": [
       "<matplotlib.collections.PathCollection at 0x7f62042529d0>"
      ]
     },
     "execution_count": 83,
     "metadata": {},
     "output_type": "execute_result"
    },
    {
     "data": {
      "image/png": "[encoded data removed]",
      "text/plain": [
       "<Figure size 432x288 with 1 Axes>"
      ]
     },
     "metadata": {
      "needs_background": "light"
     },
     "output_type": "display_data"
    }
   ],
   "source": [
    "run_height = 81\n",
    "df.plot(kind='scatter',\n",
    "        x=\"Height\",\n",
    "        y=\"Weight\",\n",
    "        title=\"Weight and Height\")\n",
    "plt.plot(X,y_pred, color='red', linewidth=2)\n",
    "\n",
    "plt.scatter(x=run_height,\n",
    "            y=model.predict([run_height]),\n",
    "            color='orange')"
   ]
  },
  {
   "cell_type": "code",
   "execution_count": null,
   "metadata": {
    "id": "sykJ92rIQfZX"
   },
   "outputs": [],
   "source": [
    "import re\n",
    "x  =\"hello/wo\\rld\"\n",
    "\n",
    "re.findall(r\"[heo]*\",x)"
   ]
  },
  {
   "cell_type": "code",
   "execution_count": null,
   "metadata": {},
   "outputs": [],
   "source": []
  }
 ],
 "metadata": {
  "colab": {
   "provenance": []
  },
  "kernelspec": {
   "display_name": "Python 3",
   "language": "python",
   "name": "python3"
  },
  "language_info": {
   "codemirror_mode": {
    "name": "ipython",
    "version": 3
   },
   "file_extension": ".py",
   "mimetype": "text/x-python",
   "name": "python",
   "nbconvert_exporter": "python",
   "pygments_lexer": "ipython3",
   "version": "3.7.15"
  }
 },
 "nbformat": 4,
 "nbformat_minor": 1
}
