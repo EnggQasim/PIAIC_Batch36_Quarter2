{
 "cells": [
  {
   "cell_type": "code",
   "execution_count": 1,
   "id": "a43ec328",
   "metadata": {},
   "outputs": [],
   "source": [
    "import numpy as np\n",
    "import pandas as pd"
   ]
  },
  {
   "cell_type": "code",
   "execution_count": 3,
   "id": "1edd91e7",
   "metadata": {},
   "outputs": [
    {
     "name": "stdout",
     "output_type": "stream",
     "text": [
      "1040000\n",
      "203815\n"
     ]
    },
    {
     "data": {
      "text/html": [
       "<div>\n",
       "<style scoped>\n",
       "    .dataframe tbody tr th:only-of-type {\n",
       "        vertical-align: middle;\n",
       "    }\n",
       "\n",
       "    .dataframe tbody tr th {\n",
       "        vertical-align: top;\n",
       "    }\n",
       "\n",
       "    .dataframe thead th {\n",
       "        text-align: right;\n",
       "    }\n",
       "</style>\n",
       "<table border=\"1\" class=\"dataframe\">\n",
       "  <thead>\n",
       "    <tr style=\"text-align: right;\">\n",
       "      <th></th>\n",
       "      <th>s1</th>\n",
       "      <th>s2</th>\n",
       "      <th>s3</th>\n",
       "      <th>s4</th>\n",
       "      <th>s5</th>\n",
       "    </tr>\n",
       "  </thead>\n",
       "  <tbody>\n",
       "    <tr>\n",
       "      <th>0</th>\n",
       "      <td>99</td>\n",
       "      <td>83</td>\n",
       "      <td>92</td>\n",
       "      <td>91</td>\n",
       "      <td>94</td>\n",
       "    </tr>\n",
       "    <tr>\n",
       "      <th>1</th>\n",
       "      <td>94</td>\n",
       "      <td>94</td>\n",
       "      <td>93</td>\n",
       "      <td>80</td>\n",
       "      <td>99</td>\n",
       "    </tr>\n",
       "    <tr>\n",
       "      <th>2</th>\n",
       "      <td>82</td>\n",
       "      <td>82</td>\n",
       "      <td>90</td>\n",
       "      <td>86</td>\n",
       "      <td>81</td>\n",
       "    </tr>\n",
       "    <tr>\n",
       "      <th>3</th>\n",
       "      <td>96</td>\n",
       "      <td>80</td>\n",
       "      <td>82</td>\n",
       "      <td>98</td>\n",
       "      <td>92</td>\n",
       "    </tr>\n",
       "    <tr>\n",
       "      <th>4</th>\n",
       "      <td>94</td>\n",
       "      <td>95</td>\n",
       "      <td>80</td>\n",
       "      <td>90</td>\n",
       "      <td>95</td>\n",
       "    </tr>\n",
       "  </tbody>\n",
       "</table>\n",
       "</div>"
      ],
      "text/plain": [
       "   s1  s2  s3  s4  s5\n",
       "0  99  83  92  91  94\n",
       "1  94  94  93  80  99\n",
       "2  82  82  90  86  81\n",
       "3  96  80  82  98  92\n",
       "4  94  95  80  90  95"
      ]
     },
     "execution_count": 3,
     "metadata": {},
     "output_type": "execute_result"
    }
   ],
   "source": [
    "g1 = pd.DataFrame(np.random.randint(80,100, size=(40000,5)), columns = [\"s1\",'s2','s3','s4','s5'])\n",
    "g2 = pd.DataFrame(np.random.randint(70,79, size=(40000,5)), columns = [\"s1\",'s2','s3','s4','s5'])\n",
    "g3 = pd.DataFrame(np.random.randint(60,69, size=(40000,5)), columns = [\"s1\",'s2','s3','s4','s5'])\n",
    "g4 = pd.DataFrame(np.random.randint(50,59, size=(40000,5)), columns = [\"s1\",'s2','s3','s4','s5'])\n",
    "g5 = pd.DataFrame(np.random.randint(40,49, size=(40000,5)), columns = [\"s1\",'s2','s3','s4','s5'])\n",
    "g6 = pd.DataFrame(np.random.randint(33,39, size=(800000,5)), columns = [\"s1\",'s2','s3','s4','s5'])\n",
    "g7 = pd.DataFrame(np.random.randint(0,32, size=(40000,5)), columns = [\"s1\",'s2','s3','s4','s5'])\n",
    "\n",
    "df = pd.concat([g1,g2,g3,g4,g5,g6,g7])\n",
    "print(len(df))\n",
    "df = df.drop_duplicates()# get all unique records\n",
    "print(len(df))\n",
    "df.head()"
   ]
  },
  {
   "cell_type": "code",
   "execution_count": 4,
   "id": "d6cb3ace",
   "metadata": {},
   "outputs": [
    {
     "data": {
      "text/html": [
       "<div>\n",
       "<style scoped>\n",
       "    .dataframe tbody tr th:only-of-type {\n",
       "        vertical-align: middle;\n",
       "    }\n",
       "\n",
       "    .dataframe tbody tr th {\n",
       "        vertical-align: top;\n",
       "    }\n",
       "\n",
       "    .dataframe thead th {\n",
       "        text-align: right;\n",
       "    }\n",
       "</style>\n",
       "<table border=\"1\" class=\"dataframe\">\n",
       "  <thead>\n",
       "    <tr style=\"text-align: right;\">\n",
       "      <th></th>\n",
       "      <th>s1</th>\n",
       "      <th>s2</th>\n",
       "      <th>s3</th>\n",
       "      <th>s4</th>\n",
       "      <th>s5</th>\n",
       "    </tr>\n",
       "  </thead>\n",
       "  <tbody>\n",
       "    <tr>\n",
       "      <th>39995</th>\n",
       "      <td>26</td>\n",
       "      <td>11</td>\n",
       "      <td>31</td>\n",
       "      <td>21</td>\n",
       "      <td>15</td>\n",
       "    </tr>\n",
       "    <tr>\n",
       "      <th>39996</th>\n",
       "      <td>26</td>\n",
       "      <td>12</td>\n",
       "      <td>6</td>\n",
       "      <td>31</td>\n",
       "      <td>5</td>\n",
       "    </tr>\n",
       "    <tr>\n",
       "      <th>39997</th>\n",
       "      <td>29</td>\n",
       "      <td>13</td>\n",
       "      <td>14</td>\n",
       "      <td>8</td>\n",
       "      <td>19</td>\n",
       "    </tr>\n",
       "    <tr>\n",
       "      <th>39998</th>\n",
       "      <td>21</td>\n",
       "      <td>24</td>\n",
       "      <td>19</td>\n",
       "      <td>15</td>\n",
       "      <td>13</td>\n",
       "    </tr>\n",
       "    <tr>\n",
       "      <th>39999</th>\n",
       "      <td>14</td>\n",
       "      <td>27</td>\n",
       "      <td>4</td>\n",
       "      <td>26</td>\n",
       "      <td>20</td>\n",
       "    </tr>\n",
       "  </tbody>\n",
       "</table>\n",
       "</div>"
      ],
      "text/plain": [
       "       s1  s2  s3  s4  s5\n",
       "39995  26  11  31  21  15\n",
       "39996  26  12   6  31   5\n",
       "39997  29  13  14   8  19\n",
       "39998  21  24  19  15  13\n",
       "39999  14  27   4  26  20"
      ]
     },
     "execution_count": 4,
     "metadata": {},
     "output_type": "execute_result"
    }
   ],
   "source": [
    "df.tail()"
   ]
  },
  {
   "cell_type": "markdown",
   "id": "c817ec4a",
   "metadata": {},
   "source": [
    "# Symbolic AI"
   ]
  },
  {
   "cell_type": "code",
   "execution_count": 5,
   "id": "87fb42b5",
   "metadata": {},
   "outputs": [
    {
     "data": {
      "text/html": [
       "<div>\n",
       "<style scoped>\n",
       "    .dataframe tbody tr th:only-of-type {\n",
       "        vertical-align: middle;\n",
       "    }\n",
       "\n",
       "    .dataframe tbody tr th {\n",
       "        vertical-align: top;\n",
       "    }\n",
       "\n",
       "    .dataframe thead th {\n",
       "        text-align: right;\n",
       "    }\n",
       "</style>\n",
       "<table border=\"1\" class=\"dataframe\">\n",
       "  <thead>\n",
       "    <tr style=\"text-align: right;\">\n",
       "      <th></th>\n",
       "      <th>s1</th>\n",
       "      <th>s2</th>\n",
       "      <th>s3</th>\n",
       "      <th>s4</th>\n",
       "      <th>s5</th>\n",
       "      <th>Total</th>\n",
       "      <th>Obtained</th>\n",
       "      <th>Percentage</th>\n",
       "      <th>Grade</th>\n",
       "    </tr>\n",
       "  </thead>\n",
       "  <tbody>\n",
       "    <tr>\n",
       "      <th>0</th>\n",
       "      <td>99</td>\n",
       "      <td>83</td>\n",
       "      <td>92</td>\n",
       "      <td>91</td>\n",
       "      <td>94</td>\n",
       "      <td>500</td>\n",
       "      <td>459</td>\n",
       "      <td>91.8</td>\n",
       "      <td>A+</td>\n",
       "    </tr>\n",
       "    <tr>\n",
       "      <th>1</th>\n",
       "      <td>94</td>\n",
       "      <td>94</td>\n",
       "      <td>93</td>\n",
       "      <td>80</td>\n",
       "      <td>99</td>\n",
       "      <td>500</td>\n",
       "      <td>460</td>\n",
       "      <td>92.0</td>\n",
       "      <td>A+</td>\n",
       "    </tr>\n",
       "    <tr>\n",
       "      <th>2</th>\n",
       "      <td>82</td>\n",
       "      <td>82</td>\n",
       "      <td>90</td>\n",
       "      <td>86</td>\n",
       "      <td>81</td>\n",
       "      <td>500</td>\n",
       "      <td>421</td>\n",
       "      <td>84.2</td>\n",
       "      <td>A+</td>\n",
       "    </tr>\n",
       "    <tr>\n",
       "      <th>3</th>\n",
       "      <td>96</td>\n",
       "      <td>80</td>\n",
       "      <td>82</td>\n",
       "      <td>98</td>\n",
       "      <td>92</td>\n",
       "      <td>500</td>\n",
       "      <td>448</td>\n",
       "      <td>89.6</td>\n",
       "      <td>A+</td>\n",
       "    </tr>\n",
       "    <tr>\n",
       "      <th>4</th>\n",
       "      <td>94</td>\n",
       "      <td>95</td>\n",
       "      <td>80</td>\n",
       "      <td>90</td>\n",
       "      <td>95</td>\n",
       "      <td>500</td>\n",
       "      <td>454</td>\n",
       "      <td>90.8</td>\n",
       "      <td>A+</td>\n",
       "    </tr>\n",
       "    <tr>\n",
       "      <th>...</th>\n",
       "      <td>...</td>\n",
       "      <td>...</td>\n",
       "      <td>...</td>\n",
       "      <td>...</td>\n",
       "      <td>...</td>\n",
       "      <td>...</td>\n",
       "      <td>...</td>\n",
       "      <td>...</td>\n",
       "      <td>...</td>\n",
       "    </tr>\n",
       "    <tr>\n",
       "      <th>39995</th>\n",
       "      <td>26</td>\n",
       "      <td>11</td>\n",
       "      <td>31</td>\n",
       "      <td>21</td>\n",
       "      <td>15</td>\n",
       "      <td>500</td>\n",
       "      <td>104</td>\n",
       "      <td>20.8</td>\n",
       "      <td>Fail</td>\n",
       "    </tr>\n",
       "    <tr>\n",
       "      <th>39996</th>\n",
       "      <td>26</td>\n",
       "      <td>12</td>\n",
       "      <td>6</td>\n",
       "      <td>31</td>\n",
       "      <td>5</td>\n",
       "      <td>500</td>\n",
       "      <td>80</td>\n",
       "      <td>16.0</td>\n",
       "      <td>Fail</td>\n",
       "    </tr>\n",
       "    <tr>\n",
       "      <th>39997</th>\n",
       "      <td>29</td>\n",
       "      <td>13</td>\n",
       "      <td>14</td>\n",
       "      <td>8</td>\n",
       "      <td>19</td>\n",
       "      <td>500</td>\n",
       "      <td>83</td>\n",
       "      <td>16.6</td>\n",
       "      <td>Fail</td>\n",
       "    </tr>\n",
       "    <tr>\n",
       "      <th>39998</th>\n",
       "      <td>21</td>\n",
       "      <td>24</td>\n",
       "      <td>19</td>\n",
       "      <td>15</td>\n",
       "      <td>13</td>\n",
       "      <td>500</td>\n",
       "      <td>92</td>\n",
       "      <td>18.4</td>\n",
       "      <td>Fail</td>\n",
       "    </tr>\n",
       "    <tr>\n",
       "      <th>39999</th>\n",
       "      <td>14</td>\n",
       "      <td>27</td>\n",
       "      <td>4</td>\n",
       "      <td>26</td>\n",
       "      <td>20</td>\n",
       "      <td>500</td>\n",
       "      <td>91</td>\n",
       "      <td>18.2</td>\n",
       "      <td>Fail</td>\n",
       "    </tr>\n",
       "  </tbody>\n",
       "</table>\n",
       "<p>203815 rows × 9 columns</p>\n",
       "</div>"
      ],
      "text/plain": [
       "       s1  s2  s3  s4  s5  Total  Obtained  Percentage Grade\n",
       "0      99  83  92  91  94    500       459        91.8    A+\n",
       "1      94  94  93  80  99    500       460        92.0    A+\n",
       "2      82  82  90  86  81    500       421        84.2    A+\n",
       "3      96  80  82  98  92    500       448        89.6    A+\n",
       "4      94  95  80  90  95    500       454        90.8    A+\n",
       "...    ..  ..  ..  ..  ..    ...       ...         ...   ...\n",
       "39995  26  11  31  21  15    500       104        20.8  Fail\n",
       "39996  26  12   6  31   5    500        80        16.0  Fail\n",
       "39997  29  13  14   8  19    500        83        16.6  Fail\n",
       "39998  21  24  19  15  13    500        92        18.4  Fail\n",
       "39999  14  27   4  26  20    500        91        18.2  Fail\n",
       "\n",
       "[203815 rows x 9 columns]"
      ]
     },
     "execution_count": 5,
     "metadata": {},
     "output_type": "execute_result"
    }
   ],
   "source": [
    "def grade(sb1,sb2, sb3, sb4, sb5):\n",
    "    total = 500\n",
    "    obtain = sb1 + sb2 + sb3 + sb4 + sb5\n",
    "    per = (obtain / total) * 100\n",
    "    \n",
    "    grade = None\n",
    "    \n",
    "    if per >= 80:\n",
    "        grade = \"A+\"\n",
    "    elif per >= 70:\n",
    "        grade = \"A\"\n",
    "    elif per >= 60:\n",
    "        grade = \"B\"\n",
    "    elif per >= 50:\n",
    "        grade = \"C\"\n",
    "    elif per >= 40:\n",
    "        grade = \"D\"\n",
    "    elif per >= 33:\n",
    "        grade = \"E\"\n",
    "    else:\n",
    "        grade = \"Fail\"\n",
    "        \n",
    "    return total, obtain , per , grade\n",
    "\n",
    "# df[[\"Total\",\"Obtained\",\"Percentage\",\"Grade\"]] = df[[\"s1\",\"s2\",\"s3\",\"s4\",\"s5\"]].apply(lambda x:grade(*x), axis=1, result_type='expand')\n",
    "df[[\"Total\",\"Obtained\",\"Percentage\",\"Grade\"]] = df[[\"s1\",\"s2\",\"s3\",\"s4\",\"s5\"]].apply(lambda x:grade(x[0],x[1],x[2],x[3],x[4]), axis=1, result_type='expand')\n",
    "df"
   ]
  },
  {
   "cell_type": "code",
   "execution_count": 6,
   "id": "bc24a810",
   "metadata": {},
   "outputs": [
    {
     "data": {
      "text/plain": [
       "Fail    39972\n",
       "A+      39705\n",
       "A       29158\n",
       "C       29116\n",
       "D       29057\n",
       "B       29031\n",
       "E        7776\n",
       "Name: Grade, dtype: int64"
      ]
     },
     "execution_count": 6,
     "metadata": {},
     "output_type": "execute_result"
    }
   ],
   "source": [
    "df.Grade.value_counts()"
   ]
  },
  {
   "cell_type": "code",
   "execution_count": 8,
   "id": "6121926e",
   "metadata": {},
   "outputs": [
    {
     "name": "stdout",
     "output_type": "stream",
     "text": [
      "53732\n",
      "700\n"
     ]
    }
   ],
   "source": [
    "df1 = pd.DataFrame()\n",
    "test = pd.DataFrame()\n",
    "for i in df.Grade.unique():\n",
    "    df1 = pd.concat([df1,df[df.Grade==i].head(7676)])\n",
    "    test = pd.concat([test,df[df.Grade==i].tail(100)])\n",
    "print(len(df1))\n",
    "print(len(test))"
   ]
  },
  {
   "cell_type": "markdown",
   "id": "a0f238ba",
   "metadata": {},
   "source": [
    "# Create data for ML"
   ]
  },
  {
   "cell_type": "code",
   "execution_count": 9,
   "id": "b93ee1e0",
   "metadata": {},
   "outputs": [
    {
     "data": {
      "text/html": [
       "<div>\n",
       "<style scoped>\n",
       "    .dataframe tbody tr th:only-of-type {\n",
       "        vertical-align: middle;\n",
       "    }\n",
       "\n",
       "    .dataframe tbody tr th {\n",
       "        vertical-align: top;\n",
       "    }\n",
       "\n",
       "    .dataframe thead th {\n",
       "        text-align: right;\n",
       "    }\n",
       "</style>\n",
       "<table border=\"1\" class=\"dataframe\">\n",
       "  <thead>\n",
       "    <tr style=\"text-align: right;\">\n",
       "      <th></th>\n",
       "      <th>s1</th>\n",
       "      <th>s2</th>\n",
       "      <th>s3</th>\n",
       "      <th>s4</th>\n",
       "      <th>s5</th>\n",
       "      <th>Percentage</th>\n",
       "      <th>Grade</th>\n",
       "    </tr>\n",
       "  </thead>\n",
       "  <tbody>\n",
       "    <tr>\n",
       "      <th>4880</th>\n",
       "      <td>60</td>\n",
       "      <td>66</td>\n",
       "      <td>68</td>\n",
       "      <td>62</td>\n",
       "      <td>65</td>\n",
       "      <td>64.2</td>\n",
       "      <td>B</td>\n",
       "    </tr>\n",
       "    <tr>\n",
       "      <th>2791</th>\n",
       "      <td>73</td>\n",
       "      <td>75</td>\n",
       "      <td>75</td>\n",
       "      <td>78</td>\n",
       "      <td>71</td>\n",
       "      <td>74.4</td>\n",
       "      <td>A</td>\n",
       "    </tr>\n",
       "    <tr>\n",
       "      <th>1769</th>\n",
       "      <td>45</td>\n",
       "      <td>43</td>\n",
       "      <td>46</td>\n",
       "      <td>48</td>\n",
       "      <td>40</td>\n",
       "      <td>44.4</td>\n",
       "      <td>D</td>\n",
       "    </tr>\n",
       "    <tr>\n",
       "      <th>6206</th>\n",
       "      <td>96</td>\n",
       "      <td>83</td>\n",
       "      <td>88</td>\n",
       "      <td>81</td>\n",
       "      <td>93</td>\n",
       "      <td>88.2</td>\n",
       "      <td>A+</td>\n",
       "    </tr>\n",
       "    <tr>\n",
       "      <th>5198</th>\n",
       "      <td>47</td>\n",
       "      <td>44</td>\n",
       "      <td>48</td>\n",
       "      <td>42</td>\n",
       "      <td>47</td>\n",
       "      <td>45.6</td>\n",
       "      <td>D</td>\n",
       "    </tr>\n",
       "    <tr>\n",
       "      <th>...</th>\n",
       "      <td>...</td>\n",
       "      <td>...</td>\n",
       "      <td>...</td>\n",
       "      <td>...</td>\n",
       "      <td>...</td>\n",
       "      <td>...</td>\n",
       "      <td>...</td>\n",
       "    </tr>\n",
       "    <tr>\n",
       "      <th>7990</th>\n",
       "      <td>77</td>\n",
       "      <td>70</td>\n",
       "      <td>72</td>\n",
       "      <td>77</td>\n",
       "      <td>74</td>\n",
       "      <td>74.0</td>\n",
       "      <td>A</td>\n",
       "    </tr>\n",
       "    <tr>\n",
       "      <th>24</th>\n",
       "      <td>73</td>\n",
       "      <td>73</td>\n",
       "      <td>70</td>\n",
       "      <td>72</td>\n",
       "      <td>71</td>\n",
       "      <td>71.8</td>\n",
       "      <td>A</td>\n",
       "    </tr>\n",
       "    <tr>\n",
       "      <th>1251</th>\n",
       "      <td>75</td>\n",
       "      <td>75</td>\n",
       "      <td>72</td>\n",
       "      <td>75</td>\n",
       "      <td>75</td>\n",
       "      <td>74.4</td>\n",
       "      <td>A</td>\n",
       "    </tr>\n",
       "    <tr>\n",
       "      <th>2268</th>\n",
       "      <td>50</td>\n",
       "      <td>52</td>\n",
       "      <td>51</td>\n",
       "      <td>57</td>\n",
       "      <td>52</td>\n",
       "      <td>52.4</td>\n",
       "      <td>C</td>\n",
       "    </tr>\n",
       "    <tr>\n",
       "      <th>2970</th>\n",
       "      <td>38</td>\n",
       "      <td>37</td>\n",
       "      <td>35</td>\n",
       "      <td>38</td>\n",
       "      <td>34</td>\n",
       "      <td>36.4</td>\n",
       "      <td>E</td>\n",
       "    </tr>\n",
       "  </tbody>\n",
       "</table>\n",
       "<p>53732 rows × 7 columns</p>\n",
       "</div>"
      ],
      "text/plain": [
       "      s1  s2  s3  s4  s5  Percentage Grade\n",
       "4880  60  66  68  62  65        64.2     B\n",
       "2791  73  75  75  78  71        74.4     A\n",
       "1769  45  43  46  48  40        44.4     D\n",
       "6206  96  83  88  81  93        88.2    A+\n",
       "5198  47  44  48  42  47        45.6     D\n",
       "...   ..  ..  ..  ..  ..         ...   ...\n",
       "7990  77  70  72  77  74        74.0     A\n",
       "24    73  73  70  72  71        71.8     A\n",
       "1251  75  75  72  75  75        74.4     A\n",
       "2268  50  52  51  57  52        52.4     C\n",
       "2970  38  37  35  38  34        36.4     E\n",
       "\n",
       "[53732 rows x 7 columns]"
      ]
     },
     "execution_count": 9,
     "metadata": {},
     "output_type": "execute_result"
    }
   ],
   "source": [
    "data = df1[[\"s1\",\"s2\",\"s3\",'s4','s5',\"Percentage\",'Grade']].copy()\n",
    "data = data.sample(frac=1)\n",
    "data"
   ]
  },
  {
   "cell_type": "code",
   "execution_count": 11,
   "id": "fed46928",
   "metadata": {},
   "outputs": [
    {
     "data": {
      "text/html": [
       "<div>\n",
       "<style scoped>\n",
       "    .dataframe tbody tr th:only-of-type {\n",
       "        vertical-align: middle;\n",
       "    }\n",
       "\n",
       "    .dataframe tbody tr th {\n",
       "        vertical-align: top;\n",
       "    }\n",
       "\n",
       "    .dataframe thead th {\n",
       "        text-align: right;\n",
       "    }\n",
       "</style>\n",
       "<table border=\"1\" class=\"dataframe\">\n",
       "  <thead>\n",
       "    <tr style=\"text-align: right;\">\n",
       "      <th></th>\n",
       "      <th>s1</th>\n",
       "      <th>s2</th>\n",
       "      <th>s3</th>\n",
       "      <th>s4</th>\n",
       "      <th>s5</th>\n",
       "      <th>Percentage</th>\n",
       "    </tr>\n",
       "  </thead>\n",
       "  <tbody>\n",
       "    <tr>\n",
       "      <th>s1</th>\n",
       "      <td>1.000000</td>\n",
       "      <td>0.961180</td>\n",
       "      <td>0.961374</td>\n",
       "      <td>0.961118</td>\n",
       "      <td>0.961244</td>\n",
       "      <td>0.984289</td>\n",
       "    </tr>\n",
       "    <tr>\n",
       "      <th>s2</th>\n",
       "      <td>0.961180</td>\n",
       "      <td>1.000000</td>\n",
       "      <td>0.961674</td>\n",
       "      <td>0.961306</td>\n",
       "      <td>0.961208</td>\n",
       "      <td>0.984380</td>\n",
       "    </tr>\n",
       "    <tr>\n",
       "      <th>s3</th>\n",
       "      <td>0.961374</td>\n",
       "      <td>0.961674</td>\n",
       "      <td>1.000000</td>\n",
       "      <td>0.961732</td>\n",
       "      <td>0.961708</td>\n",
       "      <td>0.984640</td>\n",
       "    </tr>\n",
       "    <tr>\n",
       "      <th>s4</th>\n",
       "      <td>0.961118</td>\n",
       "      <td>0.961306</td>\n",
       "      <td>0.961732</td>\n",
       "      <td>1.000000</td>\n",
       "      <td>0.961519</td>\n",
       "      <td>0.984451</td>\n",
       "    </tr>\n",
       "    <tr>\n",
       "      <th>s5</th>\n",
       "      <td>0.961244</td>\n",
       "      <td>0.961208</td>\n",
       "      <td>0.961708</td>\n",
       "      <td>0.961519</td>\n",
       "      <td>1.000000</td>\n",
       "      <td>0.984447</td>\n",
       "    </tr>\n",
       "    <tr>\n",
       "      <th>Percentage</th>\n",
       "      <td>0.984289</td>\n",
       "      <td>0.984380</td>\n",
       "      <td>0.984640</td>\n",
       "      <td>0.984451</td>\n",
       "      <td>0.984447</td>\n",
       "      <td>1.000000</td>\n",
       "    </tr>\n",
       "  </tbody>\n",
       "</table>\n",
       "</div>"
      ],
      "text/plain": [
       "                  s1        s2        s3        s4        s5  Percentage\n",
       "s1          1.000000  0.961180  0.961374  0.961118  0.961244    0.984289\n",
       "s2          0.961180  1.000000  0.961674  0.961306  0.961208    0.984380\n",
       "s3          0.961374  0.961674  1.000000  0.961732  0.961708    0.984640\n",
       "s4          0.961118  0.961306  0.961732  1.000000  0.961519    0.984451\n",
       "s5          0.961244  0.961208  0.961708  0.961519  1.000000    0.984447\n",
       "Percentage  0.984289  0.984380  0.984640  0.984451  0.984447    1.000000"
      ]
     },
     "execution_count": 11,
     "metadata": {},
     "output_type": "execute_result"
    }
   ],
   "source": [
    "data.corr()"
   ]
  },
  {
   "cell_type": "code",
   "execution_count": 12,
   "id": "9d579669",
   "metadata": {
    "scrolled": true
   },
   "outputs": [
    {
     "data": {
      "text/plain": [
       "<AxesSubplot:>"
      ]
     },
     "execution_count": 12,
     "metadata": {},
     "output_type": "execute_result"
    },
    {
     "data": {
      "image/png": "[encoded data removed]",
      "text/plain": [
       "<Figure size 432x288 with 1 Axes>"
      ]
     },
     "metadata": {
      "needs_background": "light"
     },
     "output_type": "display_data"
    }
   ],
   "source": [
    "data.corr().plot(kind='bar')"
   ]
  },
  {
   "cell_type": "code",
   "execution_count": 14,
   "id": "6cc8ee25",
   "metadata": {},
   "outputs": [
    {
     "data": {
      "text/html": [
       "<div>\n",
       "<style scoped>\n",
       "    .dataframe tbody tr th:only-of-type {\n",
       "        vertical-align: middle;\n",
       "    }\n",
       "\n",
       "    .dataframe tbody tr th {\n",
       "        vertical-align: top;\n",
       "    }\n",
       "\n",
       "    .dataframe thead th {\n",
       "        text-align: right;\n",
       "    }\n",
       "</style>\n",
       "<table border=\"1\" class=\"dataframe\">\n",
       "  <thead>\n",
       "    <tr style=\"text-align: right;\">\n",
       "      <th></th>\n",
       "      <th>s1</th>\n",
       "      <th>s2</th>\n",
       "      <th>s3</th>\n",
       "      <th>s4</th>\n",
       "      <th>s5</th>\n",
       "      <th>Percentage</th>\n",
       "      <th>Grade</th>\n",
       "      <th>Grade1</th>\n",
       "    </tr>\n",
       "  </thead>\n",
       "  <tbody>\n",
       "    <tr>\n",
       "      <th>4880</th>\n",
       "      <td>60</td>\n",
       "      <td>66</td>\n",
       "      <td>68</td>\n",
       "      <td>62</td>\n",
       "      <td>65</td>\n",
       "      <td>64.2</td>\n",
       "      <td>B</td>\n",
       "      <td>5</td>\n",
       "    </tr>\n",
       "    <tr>\n",
       "      <th>2791</th>\n",
       "      <td>73</td>\n",
       "      <td>75</td>\n",
       "      <td>75</td>\n",
       "      <td>78</td>\n",
       "      <td>71</td>\n",
       "      <td>74.4</td>\n",
       "      <td>A</td>\n",
       "      <td>6</td>\n",
       "    </tr>\n",
       "    <tr>\n",
       "      <th>1769</th>\n",
       "      <td>45</td>\n",
       "      <td>43</td>\n",
       "      <td>46</td>\n",
       "      <td>48</td>\n",
       "      <td>40</td>\n",
       "      <td>44.4</td>\n",
       "      <td>D</td>\n",
       "      <td>3</td>\n",
       "    </tr>\n",
       "    <tr>\n",
       "      <th>6206</th>\n",
       "      <td>96</td>\n",
       "      <td>83</td>\n",
       "      <td>88</td>\n",
       "      <td>81</td>\n",
       "      <td>93</td>\n",
       "      <td>88.2</td>\n",
       "      <td>A+</td>\n",
       "      <td>7</td>\n",
       "    </tr>\n",
       "    <tr>\n",
       "      <th>5198</th>\n",
       "      <td>47</td>\n",
       "      <td>44</td>\n",
       "      <td>48</td>\n",
       "      <td>42</td>\n",
       "      <td>47</td>\n",
       "      <td>45.6</td>\n",
       "      <td>D</td>\n",
       "      <td>3</td>\n",
       "    </tr>\n",
       "    <tr>\n",
       "      <th>...</th>\n",
       "      <td>...</td>\n",
       "      <td>...</td>\n",
       "      <td>...</td>\n",
       "      <td>...</td>\n",
       "      <td>...</td>\n",
       "      <td>...</td>\n",
       "      <td>...</td>\n",
       "      <td>...</td>\n",
       "    </tr>\n",
       "    <tr>\n",
       "      <th>7990</th>\n",
       "      <td>77</td>\n",
       "      <td>70</td>\n",
       "      <td>72</td>\n",
       "      <td>77</td>\n",
       "      <td>74</td>\n",
       "      <td>74.0</td>\n",
       "      <td>A</td>\n",
       "      <td>6</td>\n",
       "    </tr>\n",
       "    <tr>\n",
       "      <th>24</th>\n",
       "      <td>73</td>\n",
       "      <td>73</td>\n",
       "      <td>70</td>\n",
       "      <td>72</td>\n",
       "      <td>71</td>\n",
       "      <td>71.8</td>\n",
       "      <td>A</td>\n",
       "      <td>6</td>\n",
       "    </tr>\n",
       "    <tr>\n",
       "      <th>1251</th>\n",
       "      <td>75</td>\n",
       "      <td>75</td>\n",
       "      <td>72</td>\n",
       "      <td>75</td>\n",
       "      <td>75</td>\n",
       "      <td>74.4</td>\n",
       "      <td>A</td>\n",
       "      <td>6</td>\n",
       "    </tr>\n",
       "    <tr>\n",
       "      <th>2268</th>\n",
       "      <td>50</td>\n",
       "      <td>52</td>\n",
       "      <td>51</td>\n",
       "      <td>57</td>\n",
       "      <td>52</td>\n",
       "      <td>52.4</td>\n",
       "      <td>C</td>\n",
       "      <td>4</td>\n",
       "    </tr>\n",
       "    <tr>\n",
       "      <th>2970</th>\n",
       "      <td>38</td>\n",
       "      <td>37</td>\n",
       "      <td>35</td>\n",
       "      <td>38</td>\n",
       "      <td>34</td>\n",
       "      <td>36.4</td>\n",
       "      <td>E</td>\n",
       "      <td>2</td>\n",
       "    </tr>\n",
       "  </tbody>\n",
       "</table>\n",
       "<p>53732 rows × 8 columns</p>\n",
       "</div>"
      ],
      "text/plain": [
       "      s1  s2  s3  s4  s5  Percentage Grade  Grade1\n",
       "4880  60  66  68  62  65        64.2     B       5\n",
       "2791  73  75  75  78  71        74.4     A       6\n",
       "1769  45  43  46  48  40        44.4     D       3\n",
       "6206  96  83  88  81  93        88.2    A+       7\n",
       "5198  47  44  48  42  47        45.6     D       3\n",
       "...   ..  ..  ..  ..  ..         ...   ...     ...\n",
       "7990  77  70  72  77  74        74.0     A       6\n",
       "24    73  73  70  72  71        71.8     A       6\n",
       "1251  75  75  72  75  75        74.4     A       6\n",
       "2268  50  52  51  57  52        52.4     C       4\n",
       "2970  38  37  35  38  34        36.4     E       2\n",
       "\n",
       "[53732 rows x 8 columns]"
      ]
     },
     "execution_count": 14,
     "metadata": {},
     "output_type": "execute_result"
    }
   ],
   "source": [
    "grades = {\n",
    "    \"A+\":7,\n",
    "    \"A\":6,\n",
    "    \"B\":5,\n",
    "    \"C\":4,\n",
    "    \"D\":3,\n",
    "    \"E\":2,\n",
    "    \"Fail\":1\n",
    "}\n",
    "\n",
    "data['Grade1'] = data.Grade.map(grades)# map with dictionary\n",
    "data"
   ]
  },
  {
   "cell_type": "code",
   "execution_count": 17,
   "id": "967ff309",
   "metadata": {},
   "outputs": [
    {
     "data": {
      "text/plain": [
       "<AxesSubplot:>"
      ]
     },
     "execution_count": 17,
     "metadata": {},
     "output_type": "execute_result"
    },
    {
     "data": {
      "image/png": "[encoded data removed]",
      "text/plain": [
       "<Figure size 432x288 with 1 Axes>"
      ]
     },
     "metadata": {
      "needs_background": "light"
     },
     "output_type": "display_data"
    }
   ],
   "source": [
    "data.corr().plot(kind='bar')"
   ]
  },
  {
   "cell_type": "code",
   "execution_count": 18,
   "id": "52be85f5",
   "metadata": {},
   "outputs": [
    {
     "data": {
      "text/plain": [
       "<AxesSubplot:>"
      ]
     },
     "execution_count": 18,
     "metadata": {},
     "output_type": "execute_result"
    },
    {
     "data": {
      "image/png": "[encoded data removed]",
      "text/plain": [
       "<Figure size 432x288 with 1 Axes>"
      ]
     },
     "metadata": {
      "needs_background": "light"
     },
     "output_type": "display_data"
    }
   ],
   "source": [
    "data.corr().plot(kind='bar', legend=False)"
   ]
  },
  {
   "cell_type": "code",
   "execution_count": 19,
   "id": "5bb0d92f",
   "metadata": {},
   "outputs": [
    {
     "data": {
      "text/html": [
       "<div>\n",
       "<style scoped>\n",
       "    .dataframe tbody tr th:only-of-type {\n",
       "        vertical-align: middle;\n",
       "    }\n",
       "\n",
       "    .dataframe tbody tr th {\n",
       "        vertical-align: top;\n",
       "    }\n",
       "\n",
       "    .dataframe thead th {\n",
       "        text-align: right;\n",
       "    }\n",
       "</style>\n",
       "<table border=\"1\" class=\"dataframe\">\n",
       "  <thead>\n",
       "    <tr style=\"text-align: right;\">\n",
       "      <th></th>\n",
       "      <th>Percentage</th>\n",
       "      <th>Grade1</th>\n",
       "    </tr>\n",
       "  </thead>\n",
       "  <tbody>\n",
       "    <tr>\n",
       "      <th>Percentage</th>\n",
       "      <td>1.000000</td>\n",
       "      <td>0.989262</td>\n",
       "    </tr>\n",
       "    <tr>\n",
       "      <th>Grade1</th>\n",
       "      <td>0.989262</td>\n",
       "      <td>1.000000</td>\n",
       "    </tr>\n",
       "  </tbody>\n",
       "</table>\n",
       "</div>"
      ],
      "text/plain": [
       "            Percentage    Grade1\n",
       "Percentage    1.000000  0.989262\n",
       "Grade1        0.989262  1.000000"
      ]
     },
     "execution_count": 19,
     "metadata": {},
     "output_type": "execute_result"
    }
   ],
   "source": [
    "data[[\"Percentage\",\"Grade1\"]].corr()"
   ]
  },
  {
   "cell_type": "markdown",
   "id": "bb462677",
   "metadata": {},
   "source": [
    "# Find Grade (Rules) with Machine Learning"
   ]
  },
  {
   "cell_type": "code",
   "execution_count": 31,
   "id": "f37b67ea",
   "metadata": {},
   "outputs": [],
   "source": [
    "from sklearn.tree import DecisionTreeClassifier\n",
    "from sklearn.model_selection import train_test_split\n",
    "from sklearn import metrics"
   ]
  },
  {
   "cell_type": "markdown",
   "id": "ca70f534",
   "metadata": {},
   "source": [
    "<img src=\"https://www.researchgate.net/profile/Nimmisha-Shajihan/publication/347447352/figure/fig3/AS:970048604741634@1608289018974/Performance-measurement-TP-TN-FP-FN-are-the-parameters-used-in-the-evaluation-of.jpg\">\n",
    "<img src=\"https://miro.medium.com/max/974/1*CNWo23_VnUJPXdfrqbiB0g.jpeg\">"
   ]
  },
  {
   "cell_type": "markdown",
   "id": "f0d939c7",
   "metadata": {},
   "source": [
    "<img src=\"https://static.packt-cdn.com/products/9781785282287/graphics/B04223_10_02.jpg\">"
   ]
  },
  {
   "cell_type": "markdown",
   "id": "fe0f285f",
   "metadata": {},
   "source": [
    "<img src=\"https://i.ytimg.com/vi/ji48Lz6amMc/maxresdefault.jpg\">"
   ]
  },
  {
   "cell_type": "code",
   "execution_count": 32,
   "id": "0605879e",
   "metadata": {},
   "outputs": [
    {
     "data": {
      "text/html": [
       "<div>\n",
       "<style scoped>\n",
       "    .dataframe tbody tr th:only-of-type {\n",
       "        vertical-align: middle;\n",
       "    }\n",
       "\n",
       "    .dataframe tbody tr th {\n",
       "        vertical-align: top;\n",
       "    }\n",
       "\n",
       "    .dataframe thead th {\n",
       "        text-align: right;\n",
       "    }\n",
       "</style>\n",
       "<table border=\"1\" class=\"dataframe\">\n",
       "  <thead>\n",
       "    <tr style=\"text-align: right;\">\n",
       "      <th></th>\n",
       "      <th>Percentage</th>\n",
       "      <th>Grade1</th>\n",
       "    </tr>\n",
       "  </thead>\n",
       "  <tbody>\n",
       "    <tr>\n",
       "      <th>Percentage</th>\n",
       "      <td>1.000000</td>\n",
       "      <td>0.989262</td>\n",
       "    </tr>\n",
       "    <tr>\n",
       "      <th>Grade1</th>\n",
       "      <td>0.989262</td>\n",
       "      <td>1.000000</td>\n",
       "    </tr>\n",
       "  </tbody>\n",
       "</table>\n",
       "</div>"
      ],
      "text/plain": [
       "            Percentage    Grade1\n",
       "Percentage    1.000000  0.989262\n",
       "Grade1        0.989262  1.000000"
      ]
     },
     "execution_count": 32,
     "metadata": {},
     "output_type": "execute_result"
    }
   ],
   "source": [
    "data[[\"Percentage\",\"Grade1\"]].corr()"
   ]
  },
  {
   "cell_type": "markdown",
   "id": "ce375303",
   "metadata": {},
   "source": [
    "# Now select the feature based on above stats technique"
   ]
  },
  {
   "cell_type": "code",
   "execution_count": 33,
   "id": "4f23bb31",
   "metadata": {},
   "outputs": [
    {
     "data": {
      "text/html": [
       "<div>\n",
       "<style scoped>\n",
       "    .dataframe tbody tr th:only-of-type {\n",
       "        vertical-align: middle;\n",
       "    }\n",
       "\n",
       "    .dataframe tbody tr th {\n",
       "        vertical-align: top;\n",
       "    }\n",
       "\n",
       "    .dataframe thead th {\n",
       "        text-align: right;\n",
       "    }\n",
       "</style>\n",
       "<table border=\"1\" class=\"dataframe\">\n",
       "  <thead>\n",
       "    <tr style=\"text-align: right;\">\n",
       "      <th></th>\n",
       "      <th>s1</th>\n",
       "      <th>s2</th>\n",
       "      <th>s3</th>\n",
       "      <th>s4</th>\n",
       "      <th>s5</th>\n",
       "      <th>Percentage</th>\n",
       "      <th>Grade</th>\n",
       "      <th>Grade1</th>\n",
       "    </tr>\n",
       "  </thead>\n",
       "  <tbody>\n",
       "    <tr>\n",
       "      <th>4880</th>\n",
       "      <td>60</td>\n",
       "      <td>66</td>\n",
       "      <td>68</td>\n",
       "      <td>62</td>\n",
       "      <td>65</td>\n",
       "      <td>64.2</td>\n",
       "      <td>B</td>\n",
       "      <td>5</td>\n",
       "    </tr>\n",
       "    <tr>\n",
       "      <th>2791</th>\n",
       "      <td>73</td>\n",
       "      <td>75</td>\n",
       "      <td>75</td>\n",
       "      <td>78</td>\n",
       "      <td>71</td>\n",
       "      <td>74.4</td>\n",
       "      <td>A</td>\n",
       "      <td>6</td>\n",
       "    </tr>\n",
       "    <tr>\n",
       "      <th>1769</th>\n",
       "      <td>45</td>\n",
       "      <td>43</td>\n",
       "      <td>46</td>\n",
       "      <td>48</td>\n",
       "      <td>40</td>\n",
       "      <td>44.4</td>\n",
       "      <td>D</td>\n",
       "      <td>3</td>\n",
       "    </tr>\n",
       "    <tr>\n",
       "      <th>6206</th>\n",
       "      <td>96</td>\n",
       "      <td>83</td>\n",
       "      <td>88</td>\n",
       "      <td>81</td>\n",
       "      <td>93</td>\n",
       "      <td>88.2</td>\n",
       "      <td>A+</td>\n",
       "      <td>7</td>\n",
       "    </tr>\n",
       "    <tr>\n",
       "      <th>5198</th>\n",
       "      <td>47</td>\n",
       "      <td>44</td>\n",
       "      <td>48</td>\n",
       "      <td>42</td>\n",
       "      <td>47</td>\n",
       "      <td>45.6</td>\n",
       "      <td>D</td>\n",
       "      <td>3</td>\n",
       "    </tr>\n",
       "  </tbody>\n",
       "</table>\n",
       "</div>"
      ],
      "text/plain": [
       "      s1  s2  s3  s4  s5  Percentage Grade  Grade1\n",
       "4880  60  66  68  62  65        64.2     B       5\n",
       "2791  73  75  75  78  71        74.4     A       6\n",
       "1769  45  43  46  48  40        44.4     D       3\n",
       "6206  96  83  88  81  93        88.2    A+       7\n",
       "5198  47  44  48  42  47        45.6     D       3"
      ]
     },
     "execution_count": 33,
     "metadata": {},
     "output_type": "execute_result"
    }
   ],
   "source": [
    "data.head()"
   ]
  },
  {
   "cell_type": "code",
   "execution_count": 34,
   "id": "b82052b4",
   "metadata": {},
   "outputs": [],
   "source": [
    "feature = ['Percentage']\n",
    "\n",
    "X = data[feature]\n",
    "Y = data.Grade\n",
    "\n"
   ]
  },
  {
   "cell_type": "code",
   "execution_count": 35,
   "id": "96322fa2",
   "metadata": {},
   "outputs": [
    {
     "name": "stdout",
     "output_type": "stream",
     "text": [
      "<class 'pandas.core.frame.DataFrame'>\n"
     ]
    },
    {
     "data": {
      "text/html": [
       "<div>\n",
       "<style scoped>\n",
       "    .dataframe tbody tr th:only-of-type {\n",
       "        vertical-align: middle;\n",
       "    }\n",
       "\n",
       "    .dataframe tbody tr th {\n",
       "        vertical-align: top;\n",
       "    }\n",
       "\n",
       "    .dataframe thead th {\n",
       "        text-align: right;\n",
       "    }\n",
       "</style>\n",
       "<table border=\"1\" class=\"dataframe\">\n",
       "  <thead>\n",
       "    <tr style=\"text-align: right;\">\n",
       "      <th></th>\n",
       "      <th>Percentage</th>\n",
       "    </tr>\n",
       "  </thead>\n",
       "  <tbody>\n",
       "    <tr>\n",
       "      <th>4880</th>\n",
       "      <td>64.2</td>\n",
       "    </tr>\n",
       "    <tr>\n",
       "      <th>2791</th>\n",
       "      <td>74.4</td>\n",
       "    </tr>\n",
       "    <tr>\n",
       "      <th>1769</th>\n",
       "      <td>44.4</td>\n",
       "    </tr>\n",
       "    <tr>\n",
       "      <th>6206</th>\n",
       "      <td>88.2</td>\n",
       "    </tr>\n",
       "    <tr>\n",
       "      <th>5198</th>\n",
       "      <td>45.6</td>\n",
       "    </tr>\n",
       "  </tbody>\n",
       "</table>\n",
       "</div>"
      ],
      "text/plain": [
       "      Percentage\n",
       "4880        64.2\n",
       "2791        74.4\n",
       "1769        44.4\n",
       "6206        88.2\n",
       "5198        45.6"
      ]
     },
     "execution_count": 35,
     "metadata": {},
     "output_type": "execute_result"
    }
   ],
   "source": [
    "print(type(X))\n",
    "X.head()"
   ]
  },
  {
   "cell_type": "code",
   "execution_count": 36,
   "id": "db2bd4a9",
   "metadata": {},
   "outputs": [
    {
     "name": "stdout",
     "output_type": "stream",
     "text": [
      "<class 'pandas.core.series.Series'>\n"
     ]
    },
    {
     "data": {
      "text/plain": [
       "4880     B\n",
       "2791     A\n",
       "1769     D\n",
       "6206    A+\n",
       "5198     D\n",
       "Name: Grade, dtype: object"
      ]
     },
     "execution_count": 36,
     "metadata": {},
     "output_type": "execute_result"
    }
   ],
   "source": [
    "print(type(Y))\n",
    "Y.head()"
   ]
  },
  {
   "cell_type": "markdown",
   "id": "bb685617",
   "metadata": {},
   "source": [
    "# Split data in Training and Test dataset\n",
    "* X_train, X_test \n",
    "* Y_train, Y_test"
   ]
  },
  {
   "cell_type": "code",
   "execution_count": 37,
   "id": "f791450c",
   "metadata": {},
   "outputs": [
    {
     "name": "stdout",
     "output_type": "stream",
     "text": [
      "X len 53732 Y len 53732\n",
      "train X 38102\n",
      "37612\n",
      "37612\n",
      "16120\n",
      "16120\n"
     ]
    }
   ],
   "source": [
    "print(\"X len\",len(X),\"Y len\",len(Y))\n",
    "print(\"train X\",int(54432*70/100))\n",
    "X_train,X_test, Y_train, Y_test = train_test_split(X,Y, test_size=0.3,random_state=True)\n",
    "\n",
    "print(len(X_train))\n",
    "print(len(Y_train))\n",
    "print(len(X_test))\n",
    "print(len(Y_test))"
   ]
  },
  {
   "cell_type": "markdown",
   "id": "a98c9877",
   "metadata": {},
   "source": [
    "# Classifier"
   ]
  },
  {
   "cell_type": "code",
   "execution_count": 38,
   "id": "bb0d09f5",
   "metadata": {},
   "outputs": [],
   "source": [
    "clf = DecisionTreeClassifier()"
   ]
  },
  {
   "cell_type": "code",
   "execution_count": 40,
   "id": "0ee6af04",
   "metadata": {},
   "outputs": [],
   "source": [
    "clf = clf.fit(X_train, Y_train)"
   ]
  },
  {
   "cell_type": "markdown",
   "id": "d0479885",
   "metadata": {},
   "source": [
    "https://www.google.com/search?q=entropy+and+gini+index+decision+tree&source=lmns&tbm=vid&bih=636&biw=1296&hl=en&sa=X&ved=2ahUKEwjA7oW31J79AhXhpCcCHXgrAp0Q_AUoAnoECAEQAg\n",
    "\n",
    "* entropy\n",
    "* gini index"
   ]
  },
  {
   "cell_type": "code",
   "execution_count": 41,
   "id": "e2e14686",
   "metadata": {},
   "outputs": [
    {
     "data": {
      "text/html": [
       "<div>\n",
       "<style scoped>\n",
       "    .dataframe tbody tr th:only-of-type {\n",
       "        vertical-align: middle;\n",
       "    }\n",
       "\n",
       "    .dataframe tbody tr th {\n",
       "        vertical-align: top;\n",
       "    }\n",
       "\n",
       "    .dataframe thead th {\n",
       "        text-align: right;\n",
       "    }\n",
       "</style>\n",
       "<table border=\"1\" class=\"dataframe\">\n",
       "  <thead>\n",
       "    <tr style=\"text-align: right;\">\n",
       "      <th></th>\n",
       "      <th>Percentage</th>\n",
       "    </tr>\n",
       "  </thead>\n",
       "  <tbody>\n",
       "    <tr>\n",
       "      <th>3430</th>\n",
       "      <td>45.0</td>\n",
       "    </tr>\n",
       "    <tr>\n",
       "      <th>2033</th>\n",
       "      <td>62.2</td>\n",
       "    </tr>\n",
       "    <tr>\n",
       "      <th>4113</th>\n",
       "      <td>65.2</td>\n",
       "    </tr>\n",
       "    <tr>\n",
       "      <th>3280</th>\n",
       "      <td>87.8</td>\n",
       "    </tr>\n",
       "    <tr>\n",
       "      <th>6226</th>\n",
       "      <td>72.8</td>\n",
       "    </tr>\n",
       "    <tr>\n",
       "      <th>...</th>\n",
       "      <td>...</td>\n",
       "    </tr>\n",
       "    <tr>\n",
       "      <th>1916</th>\n",
       "      <td>62.6</td>\n",
       "    </tr>\n",
       "    <tr>\n",
       "      <th>7140</th>\n",
       "      <td>36.0</td>\n",
       "    </tr>\n",
       "    <tr>\n",
       "      <th>1533</th>\n",
       "      <td>62.4</td>\n",
       "    </tr>\n",
       "    <tr>\n",
       "      <th>2810</th>\n",
       "      <td>73.8</td>\n",
       "    </tr>\n",
       "    <tr>\n",
       "      <th>1250</th>\n",
       "      <td>45.8</td>\n",
       "    </tr>\n",
       "  </tbody>\n",
       "</table>\n",
       "<p>16120 rows × 1 columns</p>\n",
       "</div>"
      ],
      "text/plain": [
       "      Percentage\n",
       "3430        45.0\n",
       "2033        62.2\n",
       "4113        65.2\n",
       "3280        87.8\n",
       "6226        72.8\n",
       "...          ...\n",
       "1916        62.6\n",
       "7140        36.0\n",
       "1533        62.4\n",
       "2810        73.8\n",
       "1250        45.8\n",
       "\n",
       "[16120 rows x 1 columns]"
      ]
     },
     "execution_count": 41,
     "metadata": {},
     "output_type": "execute_result"
    }
   ],
   "source": [
    "X_test"
   ]
  },
  {
   "cell_type": "code",
   "execution_count": 42,
   "id": "3c81eedb",
   "metadata": {},
   "outputs": [
    {
     "data": {
      "text/plain": [
       "array(['D', 'B', 'B', ..., 'B', 'A', 'D'], dtype=object)"
      ]
     },
     "execution_count": 42,
     "metadata": {},
     "output_type": "execute_result"
    }
   ],
   "source": [
    "Y_predict = clf.predict(X_test)\n",
    "Y_predict"
   ]
  },
  {
   "cell_type": "code",
   "execution_count": 43,
   "id": "7adf6076",
   "metadata": {},
   "outputs": [
    {
     "data": {
      "text/html": [
       "<div>\n",
       "<style scoped>\n",
       "    .dataframe tbody tr th:only-of-type {\n",
       "        vertical-align: middle;\n",
       "    }\n",
       "\n",
       "    .dataframe tbody tr th {\n",
       "        vertical-align: top;\n",
       "    }\n",
       "\n",
       "    .dataframe thead th {\n",
       "        text-align: right;\n",
       "    }\n",
       "</style>\n",
       "<table border=\"1\" class=\"dataframe\">\n",
       "  <thead>\n",
       "    <tr style=\"text-align: right;\">\n",
       "      <th></th>\n",
       "      <th>Percentage</th>\n",
       "      <th>Actual_Y</th>\n",
       "      <th>predication</th>\n",
       "    </tr>\n",
       "  </thead>\n",
       "  <tbody>\n",
       "    <tr>\n",
       "      <th>3430</th>\n",
       "      <td>45.0</td>\n",
       "      <td>D</td>\n",
       "      <td>D</td>\n",
       "    </tr>\n",
       "    <tr>\n",
       "      <th>2033</th>\n",
       "      <td>62.2</td>\n",
       "      <td>B</td>\n",
       "      <td>B</td>\n",
       "    </tr>\n",
       "    <tr>\n",
       "      <th>4113</th>\n",
       "      <td>65.2</td>\n",
       "      <td>B</td>\n",
       "      <td>B</td>\n",
       "    </tr>\n",
       "    <tr>\n",
       "      <th>3280</th>\n",
       "      <td>87.8</td>\n",
       "      <td>A+</td>\n",
       "      <td>A+</td>\n",
       "    </tr>\n",
       "    <tr>\n",
       "      <th>6226</th>\n",
       "      <td>72.8</td>\n",
       "      <td>A</td>\n",
       "      <td>A</td>\n",
       "    </tr>\n",
       "    <tr>\n",
       "      <th>...</th>\n",
       "      <td>...</td>\n",
       "      <td>...</td>\n",
       "      <td>...</td>\n",
       "    </tr>\n",
       "    <tr>\n",
       "      <th>1916</th>\n",
       "      <td>62.6</td>\n",
       "      <td>B</td>\n",
       "      <td>B</td>\n",
       "    </tr>\n",
       "    <tr>\n",
       "      <th>7140</th>\n",
       "      <td>36.0</td>\n",
       "      <td>E</td>\n",
       "      <td>E</td>\n",
       "    </tr>\n",
       "    <tr>\n",
       "      <th>1533</th>\n",
       "      <td>62.4</td>\n",
       "      <td>B</td>\n",
       "      <td>B</td>\n",
       "    </tr>\n",
       "    <tr>\n",
       "      <th>2810</th>\n",
       "      <td>73.8</td>\n",
       "      <td>A</td>\n",
       "      <td>A</td>\n",
       "    </tr>\n",
       "    <tr>\n",
       "      <th>1250</th>\n",
       "      <td>45.8</td>\n",
       "      <td>D</td>\n",
       "      <td>D</td>\n",
       "    </tr>\n",
       "  </tbody>\n",
       "</table>\n",
       "<p>16120 rows × 3 columns</p>\n",
       "</div>"
      ],
      "text/plain": [
       "      Percentage Actual_Y predication\n",
       "3430        45.0        D           D\n",
       "2033        62.2        B           B\n",
       "4113        65.2        B           B\n",
       "3280        87.8       A+          A+\n",
       "6226        72.8        A           A\n",
       "...          ...      ...         ...\n",
       "1916        62.6        B           B\n",
       "7140        36.0        E           E\n",
       "1533        62.4        B           B\n",
       "2810        73.8        A           A\n",
       "1250        45.8        D           D\n",
       "\n",
       "[16120 rows x 3 columns]"
      ]
     },
     "execution_count": 43,
     "metadata": {},
     "output_type": "execute_result"
    }
   ],
   "source": [
    "abc = X_test.copy()\n",
    "abc['Actual_Y'] = Y_test\n",
    "abc['predication'] = clf.predict(X_test)# add prediction column\n",
    "\n",
    "abc"
   ]
  },
  {
   "cell_type": "code",
   "execution_count": 45,
   "id": "4bc1823d",
   "metadata": {},
   "outputs": [
    {
     "name": "stdout",
     "output_type": "stream",
     "text": [
      "              precision    recall  f1-score   support\n",
      "\n",
      "           A       1.00      1.00      1.00      2261\n",
      "          A+       1.00      1.00      1.00      2341\n",
      "           B       1.00      1.00      1.00      2315\n",
      "           C       1.00      1.00      1.00      2309\n",
      "           D       1.00      1.00      1.00      2286\n",
      "           E       1.00      1.00      1.00      2348\n",
      "        Fail       1.00      1.00      1.00      2260\n",
      "\n",
      "    accuracy                           1.00     16120\n",
      "   macro avg       1.00      1.00      1.00     16120\n",
      "weighted avg       1.00      1.00      1.00     16120\n",
      "\n"
     ]
    }
   ],
   "source": [
    "print(metrics.classification_report(Y_test,Y_predict))"
   ]
  },
  {
   "cell_type": "code",
   "execution_count": 46,
   "id": "8cac0930",
   "metadata": {},
   "outputs": [
    {
     "data": {
      "text/plain": [
       "array(['E'], dtype=object)"
      ]
     },
     "execution_count": 46,
     "metadata": {},
     "output_type": "execute_result"
    }
   ],
   "source": [
    "clf.predict([[31]])"
   ]
  },
  {
   "cell_type": "markdown",
   "id": "a9bc3ef6",
   "metadata": {},
   "source": [
    "# Display learning Rules"
   ]
  },
  {
   "cell_type": "code",
   "execution_count": 47,
   "id": "58a4c9d8",
   "metadata": {},
   "outputs": [],
   "source": [
    "from sklearn import tree\n",
    "import matplotlib.pyplot as plt"
   ]
  },
  {
   "cell_type": "code",
   "execution_count": 48,
   "id": "9ccf4fa0",
   "metadata": {},
   "outputs": [
    {
     "data": {
      "text/plain": [
       "[Text(418.5, 489.24, 'X[0] <= 30.5\\ngini = 0.857\\nsamples = 37612\\nvalue = [5415, 5335, 5361, 5367, 5390, 5328, 5416]\\nclass = y[6]'),\n",
       " Text(342.40909090909093, 380.52000000000004, 'gini = 0.0\\nsamples = 5416\\nvalue = [0, 0, 0, 0, 0, 0, 5416]\\nclass = y[6]'),\n",
       " Text(494.5909090909091, 380.52000000000004, 'X[0] <= 69.0\\ngini = 0.833\\nsamples = 32196\\nvalue = [5415, 5335, 5361, 5367, 5390, 5328, 0]\\nclass = y[0]'),\n",
       " Text(304.3636363636364, 271.8, 'X[0] <= 48.7\\ngini = 0.75\\nsamples = 21446\\nvalue = [0, 0, 5361, 5367, 5390, 5328, 0]\\nclass = y[4]'),\n",
       " Text(152.1818181818182, 163.08000000000004, 'X[0] <= 39.1\\ngini = 0.5\\nsamples = 10718\\nvalue = [0, 0, 0, 0, 5390, 5328, 0]\\nclass = y[4]'),\n",
       " Text(76.0909090909091, 54.360000000000014, 'gini = 0.0\\nsamples = 5328\\nvalue = [0, 0, 0, 0, 0, 5328, 0]\\nclass = y[5]'),\n",
       " Text(228.27272727272728, 54.360000000000014, 'gini = 0.0\\nsamples = 5390\\nvalue = [0, 0, 0, 0, 5390, 0, 0]\\nclass = y[4]'),\n",
       " Text(456.54545454545456, 163.08000000000004, 'X[0] <= 59.1\\ngini = 0.5\\nsamples = 10728\\nvalue = [0, 0, 5361, 5367, 0, 0, 0]\\nclass = y[3]'),\n",
       " Text(380.4545454545455, 54.360000000000014, 'gini = 0.0\\nsamples = 5367\\nvalue = [0, 0, 0, 5367, 0, 0, 0]\\nclass = y[3]'),\n",
       " Text(532.6363636363636, 54.360000000000014, 'gini = 0.0\\nsamples = 5361\\nvalue = [0, 0, 5361, 0, 0, 0, 0]\\nclass = y[2]'),\n",
       " Text(684.8181818181819, 271.8, 'X[0] <= 79.3\\ngini = 0.5\\nsamples = 10750\\nvalue = [5415, 5335, 0, 0, 0, 0, 0]\\nclass = y[0]'),\n",
       " Text(608.7272727272727, 163.08000000000004, 'gini = 0.0\\nsamples = 5415\\nvalue = [5415, 0, 0, 0, 0, 0, 0]\\nclass = y[0]'),\n",
       " Text(760.909090909091, 163.08000000000004, 'gini = 0.0\\nsamples = 5335\\nvalue = [0, 5335, 0, 0, 0, 0, 0]\\nclass = y[1]')]"
      ]
     },
     "execution_count": 48,
     "metadata": {},
     "output_type": "execute_result"
    },
    {
     "data": {
      "image/png": "[encoded data removed]",
      "text/plain": [
       "<Figure size 1080x720 with 1 Axes>"
      ]
     },
     "metadata": {
      "needs_background": "light"
     },
     "output_type": "display_data"
    }
   ],
   "source": [
    "plt.figure(figsize=(15,10))\n",
    "tree.plot_tree(clf, filled=True, class_names=True, fontsize=8)"
   ]
  },
  {
   "cell_type": "markdown",
   "id": "20d5daa3",
   "metadata": {},
   "source": [
    "<img src=\"https://www.researchgate.net/profile/Jessica-Pickles-2/publication/339279807/figure/fig1/AS:891889284829201@1589654384981/Random-forests-are-collections-of-randomised-decision-trees-A-A-single-decision-tree.ppm\">"
   ]
  },
  {
   "cell_type": "code",
   "execution_count": 52,
   "id": "9d6b5494",
   "metadata": {},
   "outputs": [
    {
     "data": {
      "text/plain": [
       "array(['C'], dtype=object)"
      ]
     },
     "execution_count": 52,
     "metadata": {},
     "output_type": "execute_result"
    }
   ],
   "source": [
    "clf.predict([[50]])"
   ]
  },
  {
   "cell_type": "code",
   "execution_count": null,
   "id": "bcddf30c",
   "metadata": {},
   "outputs": [],
   "source": []
  },
  {
   "cell_type": "code",
   "execution_count": null,
   "id": "489b3b17",
   "metadata": {},
   "outputs": [],
   "source": []
  },
  {
   "cell_type": "code",
   "execution_count": null,
   "id": "1a2e6113",
   "metadata": {},
   "outputs": [],
   "source": []
  }
 ],
 "metadata": {
  "kernelspec": {
   "display_name": "Python 3",
   "language": "python",
   "name": "python3"
  },
  "language_info": {
   "codemirror_mode": {
    "name": "ipython",
    "version": 3
   },
   "file_extension": ".py",
   "mimetype": "text/x-python",
   "name": "python",
   "nbconvert_exporter": "python",
   "pygments_lexer": "ipython3",
   "version": "3.7.15"
  }
 },
 "nbformat": 4,
 "nbformat_minor": 5
}
